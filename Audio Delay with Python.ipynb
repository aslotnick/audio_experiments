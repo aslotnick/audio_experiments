{
 "cells": [
  {
   "cell_type": "markdown",
   "metadata": {},
   "source": [
    "### [andrewslotnick.com](http://andrewslotnick.com)\n",
    "---\n",
    "# Audio Delay with Python\n",
    "[Notebook source code](https://github.com/aslotnick/audio_experiments/blob/master/Audio%20Delay%20with%20Python.ipynb)\n",
    "\n",
    "_Delay_ is a fundamental audio effect. The idea of playing a sound and repeating it after some time is simple, but it is used extensively in music production as a standalone effect and as the basis of _reverb_, _chorus_, and _flanging_. In this post I will implement a version of delay to test out audio support in the standard library and to better understand how the effect works.\n",
    "\n",
    "To implement a delay function we'll need to read and write audio data, add two audio signals together, change a signal's volume, and create empty space at the end of a signal. The final version of the function will be able to generate the following sound files (and many more) based on the input."
   ]
  },
  {
   "cell_type": "code",
   "execution_count": 1,
   "metadata": {
    "collapsed": false
   },
   "outputs": [
    {
     "name": "stdout",
     "output_type": "stream",
     "text": [
      "Input:\n"
     ]
    },
    {
     "data": {
      "text/html": [
       "<a href=https://s3.amazonaws.com/audio-experiments/examples/Trumpet.wav>Trumpet.wav</a>"
      ],
      "text/plain": [
       "<IPython.core.display.HTML object>"
      ]
     },
     "metadata": {},
     "output_type": "display_data"
    },
    {
     "data": {
      "text/html": [
       "\n",
       "                <audio controls=\"controls\" >\n",
       "                    <source src=\"https://s3.amazonaws.com/audio-experiments/examples/Trumpet.wav\" type=\"audio/x-wav\" />\n",
       "                    Your browser does not support the audio element.\n",
       "                </audio>\n",
       "              "
      ],
      "text/plain": [
       "<IPython.lib.display.Audio object>"
      ]
     },
     "metadata": {},
     "output_type": "display_data"
    },
    {
     "name": "stdout",
     "output_type": "stream",
     "text": [
      "\n",
      "Outputs with delay:\n"
     ]
    },
    {
     "data": {
      "text/html": [
       "<a href=https://s3.amazonaws.com/audio-experiments/examples/Trumpet_delay_700ms.wav>Trumpet_delay_700ms.wav</a>"
      ],
      "text/plain": [
       "<IPython.core.display.HTML object>"
      ]
     },
     "metadata": {},
     "output_type": "display_data"
    },
    {
     "data": {
      "text/html": [
       "\n",
       "                <audio controls=\"controls\" >\n",
       "                    <source src=\"https://s3.amazonaws.com/audio-experiments/examples/Trumpet_delay_700ms.wav\" type=\"audio/x-wav\" />\n",
       "                    Your browser does not support the audio element.\n",
       "                </audio>\n",
       "              "
      ],
      "text/plain": [
       "<IPython.lib.display.Audio object>"
      ]
     },
     "metadata": {},
     "output_type": "display_data"
    },
    {
     "data": {
      "text/html": [
       "<a href=https://s3.amazonaws.com/audio-experiments/examples/Trumpet_delay_1ms_0.75f_1n.wav>Trumpet_delay_1ms_0.75f_1n.wav</a>"
      ],
      "text/plain": [
       "<IPython.core.display.HTML object>"
      ]
     },
     "metadata": {},
     "output_type": "display_data"
    },
    {
     "data": {
      "text/html": [
       "\n",
       "                <audio controls=\"controls\" >\n",
       "                    <source src=\"https://s3.amazonaws.com/audio-experiments/examples/Trumpet_delay_1ms_0.75f_1n.wav\" type=\"audio/x-wav\" />\n",
       "                    Your browser does not support the audio element.\n",
       "                </audio>\n",
       "              "
      ],
      "text/plain": [
       "<IPython.lib.display.Audio object>"
      ]
     },
     "metadata": {},
     "output_type": "display_data"
    },
    {
     "data": {
      "text/html": [
       "<a href=https://s3.amazonaws.com/audio-experiments/examples/Trumpet_delay_250ms_0.7f_10n.wav>Trumpet_delay_250ms_0.7f_10n.wav</a>"
      ],
      "text/plain": [
       "<IPython.core.display.HTML object>"
      ]
     },
     "metadata": {},
     "output_type": "display_data"
    },
    {
     "data": {
      "text/html": [
       "\n",
       "                <audio controls=\"controls\" >\n",
       "                    <source src=\"https://s3.amazonaws.com/audio-experiments/examples/Trumpet_delay_250ms_0.7f_10n.wav\" type=\"audio/x-wav\" />\n",
       "                    Your browser does not support the audio element.\n",
       "                </audio>\n",
       "              "
      ],
      "text/plain": [
       "<IPython.lib.display.Audio object>"
      ]
     },
     "metadata": {},
     "output_type": "display_data"
    }
   ],
   "source": [
    "from IPython.display import Audio, display, HTML\n",
    "s3 = 'https://s3.amazonaws.com/audio-experiments/examples/'\n",
    "\n",
    "#display audio object and text link for browsers not compatible with <audio>\n",
    "def display_link_audio(file):\n",
    "    return display(HTML('<a href='+s3+file+'>'+file+'</a>'),\n",
    "           Audio(url=s3+file, embed=False))\n",
    "\n",
    "print(\"Input:\")\n",
    "display_link_audio('Trumpet.wav')  \n",
    "print(\"\\nOutputs with delay:\")\n",
    "display_link_audio('Trumpet_delay_700ms.wav')\n",
    "display_link_audio('Trumpet_delay_1ms_0.75f_1n.wav')\n",
    "display_link_audio('Trumpet_delay_250ms_0.7f_10n.wav')"
   ]
  },
  {
   "cell_type": "markdown",
   "metadata": {},
   "source": [
    "(If you just want to hear some delayed audio, skip straight to the __Examples__ section)\n",
    "\n",
    "## Get some audio\n",
    "The [Wave][] module handles input and output of Wav files. This uncompressed format consists of many samples, each of which is an amplitude measurement of the sound wave. Sample data is represented as a bytes object, which makes this standard library module less useful than some other modules that return a numpy array (e.g. [audiolab][]).\n",
    "\n",
    "To work with the data in the bytes object we'll need to know the number of [bytes per sample][] and the [sample frequency][]. For simplicity these examples only support mono audio, so the nchannels parameter will need to equal 1.\n",
    "\n",
    "[Wave]: https://docs.python.org/3.4/library/wave.html\n",
    "[bytes per sample]: https://en.wikipedia.org/wiki/Audio_bit_depth\n",
    "[audiolab]: https://pypi.python.org/pypi/scikits.audiolab\n",
    "[sample frequency]: https://en.wikipedia.org/wiki/Sampling_(signal_processing)#Audio_sampling"
   ]
  },
  {
   "cell_type": "code",
   "execution_count": 2,
   "metadata": {
    "collapsed": false
   },
   "outputs": [],
   "source": [
    "import wave\n",
    "\n",
    "def input_wave(filename,frames=10000000): #10000000 is an arbitrary large number of frames\n",
    "    with wave.open(filename,'rb') as wave_file:\n",
    "        params=wave_file.getparams()\n",
    "        audio=wave_file.readframes(frames)  \n",
    "        if params.nchannels!=1:\n",
    "            raise Exception(\"The input audio should be mono for these examples\")\n",
    "    return params, audio\n",
    "\n",
    "#output to file so we can use ipython notebook's Audio widget\n",
    "def output_wave(audio, params, stem, suffix):\n",
    "    #dynamically format the filename by passing in data\n",
    "    filename=stem.replace('.wav','_{}.wav'.format(suffix))\n",
    "    with wave.open(filename,'wb') as wave_file:\n",
    "        wave_file.setparams(params)\n",
    "        wave_file.writeframes(audio)"
   ]
  },
  {
   "cell_type": "markdown",
   "metadata": {},
   "source": [
    "The following short mono audio clips will be used to demonstrate the delay effect. One is a trumpet solo and the other is the sound of a punch."
   ]
  },
  {
   "cell_type": "code",
   "execution_count": 3,
   "metadata": {
    "collapsed": false
   },
   "outputs": [
    {
     "name": "stdout",
     "output_type": "stream",
     "text": [
      "Bytes per sample: 3\n",
      "Samples per second: 44100\n",
      "First 10 bytes:\n",
      "b'\\x00\\x00\\x00\\x13\\x00\\x00\\x1f\\x00\\x005'\n"
     ]
    },
    {
     "data": {
      "text/html": [
       "<a href=https://s3.amazonaws.com/audio-experiments/examples/Trumpet.wav>Trumpet.wav</a>"
      ],
      "text/plain": [
       "<IPython.core.display.HTML object>"
      ]
     },
     "metadata": {},
     "output_type": "display_data"
    },
    {
     "data": {
      "text/html": [
       "\n",
       "                <audio controls=\"controls\" >\n",
       "                    <source src=\"https://s3.amazonaws.com/audio-experiments/examples/Trumpet.wav\" type=\"audio/x-wav\" />\n",
       "                    Your browser does not support the audio element.\n",
       "                </audio>\n",
       "              "
      ],
      "text/plain": [
       "<IPython.lib.display.Audio object>"
      ]
     },
     "metadata": {},
     "output_type": "display_data"
    },
    {
     "name": "stdout",
     "output_type": "stream",
     "text": [
      "Bytes per sample: 2\n",
      "Samples per second: 44100\n",
      "First 10 bytes:\n",
      "b'\\x00\\x00\\x00\\x00\\x00\\x00\\x00\\x00\\xfe\\xff'\n"
     ]
    },
    {
     "data": {
      "text/html": [
       "<a href=https://s3.amazonaws.com/audio-experiments/examples/Punch.wav>Punch.wav</a>"
      ],
      "text/plain": [
       "<IPython.core.display.HTML object>"
      ]
     },
     "metadata": {},
     "output_type": "display_data"
    },
    {
     "data": {
      "text/html": [
       "\n",
       "                <audio controls=\"controls\" >\n",
       "                    <source src=\"https://s3.amazonaws.com/audio-experiments/examples/Punch.wav\" type=\"audio/x-wav\" />\n",
       "                    Your browser does not support the audio element.\n",
       "                </audio>\n",
       "              "
      ],
      "text/plain": [
       "<IPython.lib.display.Audio object>"
      ]
     },
     "metadata": {},
     "output_type": "display_data"
    }
   ],
   "source": [
    "trumpet_params, trumpet_bytes = input_wave('wavs/Trumpet.wav')\n",
    "punch_params,punch_bytes = input_wave('wavs/Punch.wav')\n",
    "\n",
    "print(\"Bytes per sample: {}\".format(trumpet_params.sampwidth), \n",
    "      \"Samples per second: {}\".format(trumpet_params.framerate),\n",
    "      \"First 10 bytes:\", trumpet_bytes[:10], sep='\\n')\n",
    "display_link_audio('Trumpet.wav')\n",
    "\n",
    "print(\"Bytes per sample: {}\".format(punch_params.sampwidth), \n",
    "      \"Samples per second: {}\".format(punch_params.framerate),\n",
    "      \"First 10 bytes:\", punch_bytes[:10], sep='\\n')\n",
    "display_link_audio('Punch.wav')"
   ]
  },
  {
   "cell_type": "markdown",
   "metadata": {},
   "source": [
    "## Implement a delay function\n",
    "The simplest delay function will create a copy of the input, add some silence (0's in the bytes object) to the beginning of the copy, and combine it with the original input. The _add_ function from [Audioop](https://docs.python.org/3.4/library/audioop.html) will add the two bytes objects together. Audioop.add requires both pieces of audio to have the same length, so we also need to cut off the end of the copy. \n"
   ]
  },
  {
   "cell_type": "code",
   "execution_count": 4,
   "metadata": {
    "collapsed": false
   },
   "outputs": [],
   "source": [
    "from audioop import add\n",
    "\n",
    "def delay(audio_bytes,params,offset_ms):\n",
    "    \"\"\"version 1: delay after 'offset_ms' milliseconds\"\"\"\n",
    "    #calculate the number of bytes which corresponds to the offset in milliseconds\n",
    "    offset= params.sampwidth*offset_ms*int(params.framerate/1000)\n",
    "    #create some silence\n",
    "    beginning= b'\\0'*offset\n",
    "    #remove space from the end\n",
    "    end= audio_bytes[:-offset]\n",
    "    return add(audio_bytes, beginning+end, params.sampwidth)"
   ]
  },
  {
   "cell_type": "code",
   "execution_count": 5,
   "metadata": {
    "collapsed": false
   },
   "outputs": [
    {
     "data": {
      "text/html": [
       "<a href=https://s3.amazonaws.com/audio-experiments/examples/Trumpet_delay_1000ms.wav>Trumpet_delay_1000ms.wav</a>"
      ],
      "text/plain": [
       "<IPython.core.display.HTML object>"
      ]
     },
     "metadata": {},
     "output_type": "display_data"
    },
    {
     "data": {
      "text/html": [
       "\n",
       "                <audio controls=\"controls\" >\n",
       "                    <source src=\"https://s3.amazonaws.com/audio-experiments/examples/Trumpet_delay_1000ms.wav\" type=\"audio/x-wav\" />\n",
       "                    Your browser does not support the audio element.\n",
       "                </audio>\n",
       "              "
      ],
      "text/plain": [
       "<IPython.lib.display.Audio object>"
      ]
     },
     "metadata": {},
     "output_type": "display_data"
    },
    {
     "data": {
      "text/html": [
       "<a href=https://s3.amazonaws.com/audio-experiments/examples/Punch_delay_250ms.wav>Punch_delay_250ms.wav</a>"
      ],
      "text/plain": [
       "<IPython.core.display.HTML object>"
      ]
     },
     "metadata": {},
     "output_type": "display_data"
    },
    {
     "data": {
      "text/html": [
       "\n",
       "                <audio controls=\"controls\" >\n",
       "                    <source src=\"https://s3.amazonaws.com/audio-experiments/examples/Punch_delay_250ms.wav\" type=\"audio/x-wav\" />\n",
       "                    Your browser does not support the audio element.\n",
       "                </audio>\n",
       "              "
      ],
      "text/plain": [
       "<IPython.lib.display.Audio object>"
      ]
     },
     "metadata": {},
     "output_type": "display_data"
    }
   ],
   "source": [
    "#1-second delay\n",
    "output_wave(delay(trumpet_bytes,trumpet_params,1000), \n",
    "            trumpet_params, 'wavs/Trumpet.wav','delay_1000ms')\n",
    "#250 ms delay\n",
    "output_wave(delay(punch_bytes,punch_params,250), \n",
    "            punch_params, 'wavs/Punch.wav','delay_250ms')\n",
    "\n",
    "display_link_audio('Trumpet_delay_1000ms.wav')\n",
    "display_link_audio('Punch_delay_250ms.wav')"
   ]
  },
  {
   "cell_type": "markdown",
   "metadata": {},
   "source": [
    "## Change the delayed audio's volume\n",
    "To make this sound more like a realistic echo, we can change the volume of the delayed audio by multiplying it using audioop.mul. Note that multiplying each sample by one half is not the same as reducing the percieved [loudness](https://en.wikipedia.org/wiki/Loudness) by one half."
   ]
  },
  {
   "cell_type": "code",
   "execution_count": 6,
   "metadata": {
    "collapsed": true
   },
   "outputs": [],
   "source": [
    "from audioop import mul\n",
    "#new delay function with factor\n",
    "def delay(audio_bytes,params,offset_ms,factor=1):\n",
    "    \"\"\"version 2: delay after 'offset_ms' milliseconds amplified by 'factor'\"\"\"\n",
    "    #calculate the number of bytes which corresponds to the offset in milliseconds\n",
    "    offset= params.sampwidth*offset_ms*int(params.framerate/1000)\n",
    "    #create some silence\n",
    "    beginning= b'\\0'*offset\n",
    "    #remove space from the end\n",
    "    end= audio_bytes[:-offset]\n",
    "    #multiply by the factor\n",
    "    multiplied_end= mul(audio_bytes[:-offset],params.sampwidth,factor)\n",
    "    return add(audio_bytes, beginning+ multiplied_end, params.sampwidth)"
   ]
  },
  {
   "cell_type": "code",
   "execution_count": 7,
   "metadata": {
    "collapsed": false
   },
   "outputs": [
    {
     "data": {
      "text/html": [
       "<a href=https://s3.amazonaws.com/audio-experiments/examples/Trumpet_delay_1000ms_0.5f.wav>Trumpet_delay_1000ms_0.5f.wav</a>"
      ],
      "text/plain": [
       "<IPython.core.display.HTML object>"
      ]
     },
     "metadata": {},
     "output_type": "display_data"
    },
    {
     "data": {
      "text/html": [
       "\n",
       "                <audio controls=\"controls\" >\n",
       "                    <source src=\"https://s3.amazonaws.com/audio-experiments/examples/Trumpet_delay_1000ms_0.5f.wav\" type=\"audio/x-wav\" />\n",
       "                    Your browser does not support the audio element.\n",
       "                </audio>\n",
       "              "
      ],
      "text/plain": [
       "<IPython.lib.display.Audio object>"
      ]
     },
     "metadata": {},
     "output_type": "display_data"
    },
    {
     "data": {
      "text/html": [
       "<a href=https://s3.amazonaws.com/audio-experiments/examples/Punch_delay_250ms_0.25f.wav>Punch_delay_250ms_0.25f.wav</a>"
      ],
      "text/plain": [
       "<IPython.core.display.HTML object>"
      ]
     },
     "metadata": {},
     "output_type": "display_data"
    },
    {
     "data": {
      "text/html": [
       "\n",
       "                <audio controls=\"controls\" >\n",
       "                    <source src=\"https://s3.amazonaws.com/audio-experiments/examples/Punch_delay_250ms_0.25f.wav\" type=\"audio/x-wav\" />\n",
       "                    Your browser does not support the audio element.\n",
       "                </audio>\n",
       "              "
      ],
      "text/plain": [
       "<IPython.lib.display.Audio object>"
      ]
     },
     "metadata": {},
     "output_type": "display_data"
    }
   ],
   "source": [
    "#1-second delay with factor .5\n",
    "output_wave(delay(trumpet_bytes,trumpet_params,offset_ms=1000, factor=0.5),\n",
    "            trumpet_params, 'wavs/Trumpet.wav','delay_1000ms_0.5f')\n",
    "#500 ms delay with factor .25\n",
    "output_wave(delay(punch_bytes,punch_params,offset_ms=250, factor=0.25),\n",
    "            punch_params, 'wavs/Punch.wav','delay_250ms_0.25f')\n",
    "\n",
    "display_link_audio('Trumpet_delay_1000ms_0.5f.wav')\n",
    "display_link_audio('Punch_delay_250ms_0.25f.wav')"
   ]
  },
  {
   "cell_type": "markdown",
   "metadata": {},
   "source": [
    "## Multiple delays\n",
    "Another enhancement to the delay function is to allow for multiple repeats. Each time a repeat occurs, the volume will get progressively louder or softer based on the factor."
   ]
  },
  {
   "cell_type": "code",
   "execution_count": 8,
   "metadata": {
    "collapsed": false
   },
   "outputs": [],
   "source": [
    "from warnings import warn\n",
    "\n",
    "def delay(audio_bytes,params,offset_ms,factor=1,num=1):\n",
    "    \"\"\"version 3: 'num' delays after 'offset_ms' milliseconds amplified by 'factor'\"\"\"\n",
    "    if factor>=1:\n",
    "        warn(\"These settings may produce a very loud audio file. \\\n",
    "             Please use caution when listening\")\n",
    "    #calculate the number of bytes which corresponds to the offset in milliseconds\n",
    "    offset=params.sampwidth*offset_ms*int(params.framerate/1000)\n",
    "    #add extra space at the end for the delays\n",
    "    delayed_bytes=audio_bytes\n",
    "    for i in range(num):\n",
    "        #create some silence\n",
    "        beginning = b'\\0'*offset*(i+1)\n",
    "        #remove space from the end\n",
    "        end = audio_bytes[:-offset*(i+1)]\n",
    "        #multiply by the factor\n",
    "        multiplied_end= mul(end,params.sampwidth,factor**(i+1))\n",
    "        delayed_bytes= add(delayed_bytes, beginning+multiplied_end, params.sampwidth)\n",
    "    return delayed_bytes"
   ]
  },
  {
   "cell_type": "code",
   "execution_count": 9,
   "metadata": {
    "collapsed": false
   },
   "outputs": [
    {
     "data": {
      "text/html": [
       "<a href=https://s3.amazonaws.com/audio-experiments/examples/Trumpet_delay_1000ms_0.5f_3n.wav>Trumpet_delay_1000ms_0.5f_3n.wav</a>"
      ],
      "text/plain": [
       "<IPython.core.display.HTML object>"
      ]
     },
     "metadata": {},
     "output_type": "display_data"
    },
    {
     "data": {
      "text/html": [
       "\n",
       "                <audio controls=\"controls\" >\n",
       "                    <source src=\"https://s3.amazonaws.com/audio-experiments/examples/Trumpet_delay_1000ms_0.5f_3n.wav\" type=\"audio/x-wav\" />\n",
       "                    Your browser does not support the audio element.\n",
       "                </audio>\n",
       "              "
      ],
      "text/plain": [
       "<IPython.lib.display.Audio object>"
      ]
     },
     "metadata": {},
     "output_type": "display_data"
    },
    {
     "data": {
      "text/html": [
       "<a href=https://s3.amazonaws.com/audio-experiments/examples/Punch_delay_250ms_0.7f_4n.wav>Punch_delay_250ms_0.7f_4n.wav</a>"
      ],
      "text/plain": [
       "<IPython.core.display.HTML object>"
      ]
     },
     "metadata": {},
     "output_type": "display_data"
    },
    {
     "data": {
      "text/html": [
       "\n",
       "                <audio controls=\"controls\" >\n",
       "                    <source src=\"https://s3.amazonaws.com/audio-experiments/examples/Punch_delay_250ms_0.7f_4n.wav\" type=\"audio/x-wav\" />\n",
       "                    Your browser does not support the audio element.\n",
       "                </audio>\n",
       "              "
      ],
      "text/plain": [
       "<IPython.lib.display.Audio object>"
      ]
     },
     "metadata": {},
     "output_type": "display_data"
    }
   ],
   "source": [
    "#1-second delay with factor .5, 3 repeats\n",
    "output_wave(delay(trumpet_bytes,trumpet_params,offset_ms=1000, factor=0.5, num=3),\n",
    "            trumpet_params, 'wavs/Trumpet.wav','delay_1000ms_0.5f_3n')\n",
    "#250 ms delay with factor .7, 4 repeats\n",
    "output_wave(delay(punch_bytes, punch_params,offset_ms=250, factor=0.7, num=4),\n",
    "            punch_params, 'wavs/Punch.wav','delay_250ms_0.7f_4n')\n",
    "\n",
    "display_link_audio('Trumpet_delay_1000ms_0.5f_3n.wav')\n",
    "display_link_audio('Punch_delay_250ms_0.7f_4n.wav')"
   ]
  },
  {
   "cell_type": "markdown",
   "metadata": {},
   "source": [
    "## Leave space at the end\n",
    "The multi-delays above output a sound of the same length as the original, so trying to add too many repeats will throw an exception. To give more time to hear the effects, let's increase the length to allow every repeat to finish."
   ]
  },
  {
   "cell_type": "code",
   "execution_count": 10,
   "metadata": {
    "collapsed": false
   },
   "outputs": [],
   "source": [
    "def delay(audio_bytes,params,offset_ms,factor=1,num=1):\n",
    "    \"\"\"version 4: 'num' delays after 'offset_ms' milliseconds amplified by 'factor' \n",
    "    with additional space\"\"\"\n",
    "    if factor>=1:\n",
    "        warn(\"These settings may produce a very loud audio file. \\\n",
    "              Please use caution when listening\")\n",
    "    #calculate the number of bytes which corresponds to the offset in milliseconds\n",
    "    offset=params.sampwidth*offset_ms*int(params.framerate/1000)\n",
    "    #add extra space at the end for the delays\n",
    "    audio_bytes=audio_bytes+b'\\0'*offset*(num)\n",
    "    #create a copy of the original to apply the delays\n",
    "    delayed_bytes=audio_bytes\n",
    "    for i in range(num):\n",
    "        #create some silence\n",
    "        beginning = b'\\0'*offset*(i+1)\n",
    "        #remove space from the end\n",
    "        end = audio_bytes[:-offset*(i+1)]\n",
    "        #multiply by the factor\n",
    "        multiplied_end= mul(end,params.sampwidth,factor**(i+1))\n",
    "        delayed_bytes= add(delayed_bytes, beginning+multiplied_end, params.sampwidth)\n",
    "    return delayed_bytes"
   ]
  },
  {
   "cell_type": "code",
   "execution_count": 11,
   "metadata": {
    "collapsed": false
   },
   "outputs": [
    {
     "data": {
      "text/html": [
       "<a href=https://s3.amazonaws.com/audio-experiments/examples/Trumpet_delay_3000ms_0.5f_3n.wav>Trumpet_delay_3000ms_0.5f_3n.wav</a>"
      ],
      "text/plain": [
       "<IPython.core.display.HTML object>"
      ]
     },
     "metadata": {},
     "output_type": "display_data"
    },
    {
     "data": {
      "text/html": [
       "\n",
       "                <audio controls=\"controls\" >\n",
       "                    <source src=\"https://s3.amazonaws.com/audio-experiments/examples/Trumpet_delay_3000ms_0.5f_3n.wav\" type=\"audio/x-wav\" />\n",
       "                    Your browser does not support the audio element.\n",
       "                </audio>\n",
       "              "
      ],
      "text/plain": [
       "<IPython.lib.display.Audio object>"
      ]
     },
     "metadata": {},
     "output_type": "display_data"
    },
    {
     "data": {
      "text/html": [
       "<a href=https://s3.amazonaws.com/audio-experiments/examples/Punch_delay_500ms_0.7f_6n.wav>Punch_delay_500ms_0.7f_6n.wav</a>"
      ],
      "text/plain": [
       "<IPython.core.display.HTML object>"
      ]
     },
     "metadata": {},
     "output_type": "display_data"
    },
    {
     "data": {
      "text/html": [
       "\n",
       "                <audio controls=\"controls\" >\n",
       "                    <source src=\"https://s3.amazonaws.com/audio-experiments/examples/Punch_delay_500ms_0.7f_6n.wav\" type=\"audio/x-wav\" />\n",
       "                    Your browser does not support the audio element.\n",
       "                </audio>\n",
       "              "
      ],
      "text/plain": [
       "<IPython.lib.display.Audio object>"
      ]
     },
     "metadata": {},
     "output_type": "display_data"
    }
   ],
   "source": [
    "#3-second delay with factor .5, 3 repeats\n",
    "output_wave(delay(trumpet_bytes,trumpet_params,offset_ms=3000, factor=0.5, num=3),\n",
    "            trumpet_params, 'wavs/Trumpet.wav','delay_3000ms_0.5f_3n')\n",
    "#500 ms delay with factor .7, 6 repeats\n",
    "output_wave(delay(punch_bytes, punch_params,offset_ms=500, factor=0.7, num=6),\n",
    "            punch_params, 'wavs/Punch.wav','delay_500ms_0.7f_6n')\n",
    "\n",
    "display_link_audio('Trumpet_delay_3000ms_0.5f_3n.wav')\n",
    "display_link_audio('Punch_delay_500ms_0.7f_6n.wav')\n"
   ]
  },
  {
   "cell_type": "markdown",
   "metadata": {},
   "source": [
    "## Examples\n",
    "\n",
    "The best way to understand how different parameters affect the final sound is to try out a lot of examples. delay_to_file is a helper function to speed up this process."
   ]
  },
  {
   "cell_type": "code",
   "execution_count": 12,
   "metadata": {
    "collapsed": false
   },
   "outputs": [],
   "source": [
    "#helper function to try out lots of delays\n",
    "def delay_to_file(audio_bytes, params, offset_ms, file_stem, factor=1, num=1):\n",
    "    echoed_bytes=delay(audio_bytes, params, offset_ms, factor,num)\n",
    "    output_wave(echoed_bytes, params, file_stem,\n",
    "                'delay_{}ms_{}f_{}n'.format(offset_ms,factor,num))"
   ]
  },
  {
   "cell_type": "markdown",
   "metadata": {},
   "source": [
    "1-2 seconds of delay is too long to sound like a natural echo, so this can be used for a musical effect."
   ]
  },
  {
   "cell_type": "code",
   "execution_count": 13,
   "metadata": {
    "collapsed": false
   },
   "outputs": [
    {
     "data": {
      "text/html": [
       "<a href=https://s3.amazonaws.com/audio-experiments/examples/Trumpet_delay_1000ms_0.5f_1n.wav>Trumpet_delay_1000ms_0.5f_1n.wav</a>"
      ],
      "text/plain": [
       "<IPython.core.display.HTML object>"
      ]
     },
     "metadata": {},
     "output_type": "display_data"
    },
    {
     "data": {
      "text/html": [
       "\n",
       "                <audio controls=\"controls\" >\n",
       "                    <source src=\"https://s3.amazonaws.com/audio-experiments/examples/Trumpet_delay_1000ms_0.5f_1n.wav\" type=\"audio/x-wav\" />\n",
       "                    Your browser does not support the audio element.\n",
       "                </audio>\n",
       "              "
      ],
      "text/plain": [
       "<IPython.lib.display.Audio object>"
      ]
     },
     "metadata": {},
     "output_type": "display_data"
    },
    {
     "data": {
      "text/html": [
       "<a href=https://s3.amazonaws.com/audio-experiments/examples/Trumpet_delay_2000ms_0.9f_10n.wav>Trumpet_delay_2000ms_0.9f_10n.wav</a>"
      ],
      "text/plain": [
       "<IPython.core.display.HTML object>"
      ]
     },
     "metadata": {},
     "output_type": "display_data"
    },
    {
     "data": {
      "text/html": [
       "\n",
       "                <audio controls=\"controls\" >\n",
       "                    <source src=\"https://s3.amazonaws.com/audio-experiments/examples/Trumpet_delay_2000ms_0.9f_10n.wav\" type=\"audio/x-wav\" />\n",
       "                    Your browser does not support the audio element.\n",
       "                </audio>\n",
       "              "
      ],
      "text/plain": [
       "<IPython.lib.display.Audio object>"
      ]
     },
     "metadata": {},
     "output_type": "display_data"
    }
   ],
   "source": [
    "delay_to_file(trumpet_bytes,trumpet_params, offset_ms=1000,file_stem='wavs/Trumpet.wav',\n",
    "              factor=.5)\n",
    "delay_to_file(trumpet_bytes,trumpet_params, offset_ms=2000,file_stem='wavs/Trumpet.wav',\n",
    "              factor=.9, num=10)\n",
    "\n",
    "display_link_audio('Trumpet_delay_1000ms_0.5f_1n.wav')\n",
    "display_link_audio('Trumpet_delay_2000ms_0.9f_10n.wav')"
   ]
  },
  {
   "cell_type": "markdown",
   "metadata": {},
   "source": [
    "Adding 250-400 ms of delay with a low enough decay factor starts to give the impression of a natural echo that might occur in a larger physical space."
   ]
  },
  {
   "cell_type": "code",
   "execution_count": 14,
   "metadata": {
    "collapsed": false
   },
   "outputs": [
    {
     "data": {
      "text/html": [
       "<a href=https://s3.amazonaws.com/audio-experiments/examples/Trumpet_delay_400ms_0.5f_5n.wav>Trumpet_delay_400ms_0.5f_5n.wav</a>"
      ],
      "text/plain": [
       "<IPython.core.display.HTML object>"
      ]
     },
     "metadata": {},
     "output_type": "display_data"
    },
    {
     "data": {
      "text/html": [
       "\n",
       "                <audio controls=\"controls\" >\n",
       "                    <source src=\"https://s3.amazonaws.com/audio-experiments/examples/Trumpet_delay_400ms_0.5f_5n.wav\" type=\"audio/x-wav\" />\n",
       "                    Your browser does not support the audio element.\n",
       "                </audio>\n",
       "              "
      ],
      "text/plain": [
       "<IPython.lib.display.Audio object>"
      ]
     },
     "metadata": {},
     "output_type": "display_data"
    },
    {
     "data": {
      "text/html": [
       "<a href=https://s3.amazonaws.com/audio-experiments/examples/Trumpet_delay_400ms_0.25f_1n.wav>Trumpet_delay_400ms_0.25f_1n.wav</a>"
      ],
      "text/plain": [
       "<IPython.core.display.HTML object>"
      ]
     },
     "metadata": {},
     "output_type": "display_data"
    },
    {
     "data": {
      "text/html": [
       "\n",
       "                <audio controls=\"controls\" >\n",
       "                    <source src=\"https://s3.amazonaws.com/audio-experiments/examples/Trumpet_delay_400ms_0.25f_1n.wav\" type=\"audio/x-wav\" />\n",
       "                    Your browser does not support the audio element.\n",
       "                </audio>\n",
       "              "
      ],
      "text/plain": [
       "<IPython.lib.display.Audio object>"
      ]
     },
     "metadata": {},
     "output_type": "display_data"
    },
    {
     "data": {
      "text/html": [
       "<a href=https://s3.amazonaws.com/audio-experiments/examples/Punch_delay_400ms_0.5f_10n.wav>Punch_delay_400ms_0.5f_10n.wav</a>"
      ],
      "text/plain": [
       "<IPython.core.display.HTML object>"
      ]
     },
     "metadata": {},
     "output_type": "display_data"
    },
    {
     "data": {
      "text/html": [
       "\n",
       "                <audio controls=\"controls\" >\n",
       "                    <source src=\"https://s3.amazonaws.com/audio-experiments/examples/Punch_delay_400ms_0.5f_10n.wav\" type=\"audio/x-wav\" />\n",
       "                    Your browser does not support the audio element.\n",
       "                </audio>\n",
       "              "
      ],
      "text/plain": [
       "<IPython.lib.display.Audio object>"
      ]
     },
     "metadata": {},
     "output_type": "display_data"
    },
    {
     "data": {
      "text/html": [
       "<a href=https://s3.amazonaws.com/audio-experiments/examples/Trumpet_delay_250ms_0.5f_4n.wav>Trumpet_delay_250ms_0.5f_4n.wav</a>"
      ],
      "text/plain": [
       "<IPython.core.display.HTML object>"
      ]
     },
     "metadata": {},
     "output_type": "display_data"
    },
    {
     "data": {
      "text/html": [
       "\n",
       "                <audio controls=\"controls\" >\n",
       "                    <source src=\"https://s3.amazonaws.com/audio-experiments/examples/Trumpet_delay_250ms_0.5f_4n.wav\" type=\"audio/x-wav\" />\n",
       "                    Your browser does not support the audio element.\n",
       "                </audio>\n",
       "              "
      ],
      "text/plain": [
       "<IPython.lib.display.Audio object>"
      ]
     },
     "metadata": {},
     "output_type": "display_data"
    },
    {
     "data": {
      "text/html": [
       "<a href=https://s3.amazonaws.com/audio-experiments/examples/Trumpet_delay_250ms_0.25f_3n.wav>Trumpet_delay_250ms_0.25f_3n.wav</a>"
      ],
      "text/plain": [
       "<IPython.core.display.HTML object>"
      ]
     },
     "metadata": {},
     "output_type": "display_data"
    },
    {
     "data": {
      "text/html": [
       "\n",
       "                <audio controls=\"controls\" >\n",
       "                    <source src=\"https://s3.amazonaws.com/audio-experiments/examples/Trumpet_delay_250ms_0.25f_3n.wav\" type=\"audio/x-wav\" />\n",
       "                    Your browser does not support the audio element.\n",
       "                </audio>\n",
       "              "
      ],
      "text/plain": [
       "<IPython.lib.display.Audio object>"
      ]
     },
     "metadata": {},
     "output_type": "display_data"
    },
    {
     "data": {
      "text/html": [
       "<a href=https://s3.amazonaws.com/audio-experiments/examples/Punch_delay_250ms_0.5f_10n.wav>Punch_delay_250ms_0.5f_10n.wav</a>"
      ],
      "text/plain": [
       "<IPython.core.display.HTML object>"
      ]
     },
     "metadata": {},
     "output_type": "display_data"
    },
    {
     "data": {
      "text/html": [
       "\n",
       "                <audio controls=\"controls\" >\n",
       "                    <source src=\"https://s3.amazonaws.com/audio-experiments/examples/Punch_delay_250ms_0.5f_10n.wav\" type=\"audio/x-wav\" />\n",
       "                    Your browser does not support the audio element.\n",
       "                </audio>\n",
       "              "
      ],
      "text/plain": [
       "<IPython.lib.display.Audio object>"
      ]
     },
     "metadata": {},
     "output_type": "display_data"
    }
   ],
   "source": [
    "delay_to_file(trumpet_bytes,trumpet_params, offset_ms=400, file_stem='wavs/Trumpet.wav',\n",
    "              factor=.5, num=5)\n",
    "delay_to_file(trumpet_bytes,trumpet_params, offset_ms=400, file_stem='wavs/Trumpet.wav',\n",
    "              factor=.25)\n",
    "delay_to_file(punch_bytes,punch_params, offset_ms=400, file_stem='wavs/Punch.wav',\n",
    "              factor=.5, num=10)\n",
    "delay_to_file(trumpet_bytes,trumpet_params, offset_ms=250, file_stem='wavs/Trumpet.wav',\n",
    "              factor=.5, num=4)\n",
    "delay_to_file(trumpet_bytes,trumpet_params, offset_ms=250, file_stem='wavs/Trumpet.wav',\n",
    "              factor=.25, num=3)\n",
    "delay_to_file(punch_bytes,punch_params, offset_ms=250, file_stem='wavs/Punch.wav',\n",
    "              factor=.5, num=10)\n",
    "\n",
    "display_link_audio('Trumpet_delay_400ms_0.5f_5n.wav')\n",
    "display_link_audio('Trumpet_delay_400ms_0.25f_1n.wav')\n",
    "display_link_audio('Punch_delay_400ms_0.5f_10n.wav')\n",
    "display_link_audio('Trumpet_delay_250ms_0.5f_4n.wav')\n",
    "display_link_audio('Trumpet_delay_250ms_0.25f_3n.wav')\n",
    "display_link_audio('Punch_delay_250ms_0.5f_10n.wav')"
   ]
  },
  {
   "cell_type": "markdown",
   "metadata": {},
   "source": [
    "As delays get shorter, around 125 ms or less, the effect starts to be percieved as a single sound rather than a distinct echo. This produces the effect of a [comb filter](https://en.wikipedia.org/wiki/Comb_filter) as certain frequencies get louder or softer due to interference. On the trumpet sample, 1-5 ms delay sounds a lot like a trumpet played through a [mute](http://www.summersong.net/teacher/trumpetlessons/brassinstrumentmutes/), especially with a high number of delays."
   ]
  },
  {
   "cell_type": "code",
   "execution_count": 15,
   "metadata": {
    "collapsed": false
   },
   "outputs": [
    {
     "data": {
      "text/html": [
       "<a href=https://s3.amazonaws.com/audio-experiments/examples/Trumpet_delay_125ms_0.5f_1n.wav>Trumpet_delay_125ms_0.5f_1n.wav</a>"
      ],
      "text/plain": [
       "<IPython.core.display.HTML object>"
      ]
     },
     "metadata": {},
     "output_type": "display_data"
    },
    {
     "data": {
      "text/html": [
       "\n",
       "                <audio controls=\"controls\" >\n",
       "                    <source src=\"https://s3.amazonaws.com/audio-experiments/examples/Trumpet_delay_125ms_0.5f_1n.wav\" type=\"audio/x-wav\" />\n",
       "                    Your browser does not support the audio element.\n",
       "                </audio>\n",
       "              "
      ],
      "text/plain": [
       "<IPython.lib.display.Audio object>"
      ]
     },
     "metadata": {},
     "output_type": "display_data"
    },
    {
     "data": {
      "text/html": [
       "<a href=https://s3.amazonaws.com/audio-experiments/examples/Trumpet_delay_75ms_0.5f_1n.wav>Trumpet_delay_75ms_0.5f_1n.wav</a>"
      ],
      "text/plain": [
       "<IPython.core.display.HTML object>"
      ]
     },
     "metadata": {},
     "output_type": "display_data"
    },
    {
     "data": {
      "text/html": [
       "\n",
       "                <audio controls=\"controls\" >\n",
       "                    <source src=\"https://s3.amazonaws.com/audio-experiments/examples/Trumpet_delay_75ms_0.5f_1n.wav\" type=\"audio/x-wav\" />\n",
       "                    Your browser does not support the audio element.\n",
       "                </audio>\n",
       "              "
      ],
      "text/plain": [
       "<IPython.lib.display.Audio object>"
      ]
     },
     "metadata": {},
     "output_type": "display_data"
    },
    {
     "data": {
      "text/html": [
       "<a href=https://s3.amazonaws.com/audio-experiments/examples/Trumpet_delay_20ms_0.75f_1n.wav>Trumpet_delay_20ms_0.75f_1n.wav</a>"
      ],
      "text/plain": [
       "<IPython.core.display.HTML object>"
      ]
     },
     "metadata": {},
     "output_type": "display_data"
    },
    {
     "data": {
      "text/html": [
       "\n",
       "                <audio controls=\"controls\" >\n",
       "                    <source src=\"https://s3.amazonaws.com/audio-experiments/examples/Trumpet_delay_20ms_0.75f_1n.wav\" type=\"audio/x-wav\" />\n",
       "                    Your browser does not support the audio element.\n",
       "                </audio>\n",
       "              "
      ],
      "text/plain": [
       "<IPython.lib.display.Audio object>"
      ]
     },
     "metadata": {},
     "output_type": "display_data"
    },
    {
     "data": {
      "text/html": [
       "<a href=https://s3.amazonaws.com/audio-experiments/examples/Trumpet_delay_5ms_0.75f_1n.wav>Trumpet_delay_5ms_0.75f_1n.wav</a>"
      ],
      "text/plain": [
       "<IPython.core.display.HTML object>"
      ]
     },
     "metadata": {},
     "output_type": "display_data"
    },
    {
     "data": {
      "text/html": [
       "\n",
       "                <audio controls=\"controls\" >\n",
       "                    <source src=\"https://s3.amazonaws.com/audio-experiments/examples/Trumpet_delay_5ms_0.75f_1n.wav\" type=\"audio/x-wav\" />\n",
       "                    Your browser does not support the audio element.\n",
       "                </audio>\n",
       "              "
      ],
      "text/plain": [
       "<IPython.lib.display.Audio object>"
      ]
     },
     "metadata": {},
     "output_type": "display_data"
    },
    {
     "data": {
      "text/html": [
       "<a href=https://s3.amazonaws.com/audio-experiments/examples/Trumpet_delay_1ms_0.75f_20n.wav>Trumpet_delay_1ms_0.75f_20n.wav</a>"
      ],
      "text/plain": [
       "<IPython.core.display.HTML object>"
      ]
     },
     "metadata": {},
     "output_type": "display_data"
    },
    {
     "data": {
      "text/html": [
       "\n",
       "                <audio controls=\"controls\" >\n",
       "                    <source src=\"https://s3.amazonaws.com/audio-experiments/examples/Trumpet_delay_1ms_0.75f_20n.wav\" type=\"audio/x-wav\" />\n",
       "                    Your browser does not support the audio element.\n",
       "                </audio>\n",
       "              "
      ],
      "text/plain": [
       "<IPython.lib.display.Audio object>"
      ]
     },
     "metadata": {},
     "output_type": "display_data"
    }
   ],
   "source": [
    "delay_to_file(trumpet_bytes,trumpet_params, offset_ms=125, file_stem='wavs/Trumpet.wav',\n",
    "              factor=.5)\n",
    "delay_to_file(trumpet_bytes,trumpet_params, offset_ms=75, file_stem='wavs/Trumpet.wav', \n",
    "              factor=.5)\n",
    "delay_to_file(trumpet_bytes,trumpet_params, offset_ms=20, file_stem='wavs/Trumpet.wav', \n",
    "              factor=.75)\n",
    "delay_to_file(trumpet_bytes,trumpet_params, offset_ms=5, file_stem='wavs/Trumpet.wav', \n",
    "              factor=.75)\n",
    "delay_to_file(trumpet_bytes,trumpet_params, offset_ms=1, file_stem='wavs/Trumpet.wav', \n",
    "              factor=.75, num=20)\n",
    "\n",
    "display_link_audio('Trumpet_delay_125ms_0.5f_1n.wav')\n",
    "display_link_audio('Trumpet_delay_75ms_0.5f_1n.wav')\n",
    "display_link_audio('Trumpet_delay_20ms_0.75f_1n.wav')\n",
    "display_link_audio('Trumpet_delay_5ms_0.75f_1n.wav')\n",
    "display_link_audio('Trumpet_delay_1ms_0.75f_20n.wav')     "
   ]
  },
  {
   "cell_type": "markdown",
   "metadata": {},
   "source": [
    "Really interesting sounds can be produced below 125ms of delay by using many repeats. The trumpet starts to sound like an entirely different instrument.\n",
    "\n",
    "Since the punch sound is so short, we can actually use delay to produce a tone. For example, applying a delay of 2ms many times with almost no decay will result in a fading 500 Hertz note, since we're effectively playing the same punch sound at a frequency of 500 times per second."
   ]
  },
  {
   "cell_type": "code",
   "execution_count": 16,
   "metadata": {
    "collapsed": false
   },
   "outputs": [
    {
     "data": {
      "text/html": [
       "<a href=https://s3.amazonaws.com/audio-experiments/examples/Trumpet_delay_50ms_0.76f_10n.wav>Trumpet_delay_50ms_0.76f_10n.wav</a>"
      ],
      "text/plain": [
       "<IPython.core.display.HTML object>"
      ]
     },
     "metadata": {},
     "output_type": "display_data"
    },
    {
     "data": {
      "text/html": [
       "\n",
       "                <audio controls=\"controls\" >\n",
       "                    <source src=\"https://s3.amazonaws.com/audio-experiments/examples/Trumpet_delay_50ms_0.76f_10n.wav\" type=\"audio/x-wav\" />\n",
       "                    Your browser does not support the audio element.\n",
       "                </audio>\n",
       "              "
      ],
      "text/plain": [
       "<IPython.lib.display.Audio object>"
      ]
     },
     "metadata": {},
     "output_type": "display_data"
    },
    {
     "data": {
      "text/html": [
       "<a href=https://s3.amazonaws.com/audio-experiments/examples/Trumpet_delay_125ms_0.7f_10n.wav>Trumpet_delay_125ms_0.7f_10n.wav</a>"
      ],
      "text/plain": [
       "<IPython.core.display.HTML object>"
      ]
     },
     "metadata": {},
     "output_type": "display_data"
    },
    {
     "data": {
      "text/html": [
       "\n",
       "                <audio controls=\"controls\" >\n",
       "                    <source src=\"https://s3.amazonaws.com/audio-experiments/examples/Trumpet_delay_125ms_0.7f_10n.wav\" type=\"audio/x-wav\" />\n",
       "                    Your browser does not support the audio element.\n",
       "                </audio>\n",
       "              "
      ],
      "text/plain": [
       "<IPython.lib.display.Audio object>"
      ]
     },
     "metadata": {},
     "output_type": "display_data"
    },
    {
     "data": {
      "text/html": [
       "<a href=https://s3.amazonaws.com/audio-experiments/examples/Trumpet_delay_20ms_0.97f_300n.wav>Trumpet_delay_20ms_0.97f_300n.wav</a>"
      ],
      "text/plain": [
       "<IPython.core.display.HTML object>"
      ]
     },
     "metadata": {},
     "output_type": "display_data"
    },
    {
     "data": {
      "text/html": [
       "\n",
       "                <audio controls=\"controls\" >\n",
       "                    <source src=\"https://s3.amazonaws.com/audio-experiments/examples/Trumpet_delay_20ms_0.97f_300n.wav\" type=\"audio/x-wav\" />\n",
       "                    Your browser does not support the audio element.\n",
       "                </audio>\n",
       "              "
      ],
      "text/plain": [
       "<IPython.lib.display.Audio object>"
      ]
     },
     "metadata": {},
     "output_type": "display_data"
    },
    {
     "data": {
      "text/html": [
       "<a href=https://s3.amazonaws.com/audio-experiments/examples/Punch_delay_2ms_0.996f_3000n.wav>Punch_delay_2ms_0.996f_3000n.wav</a>"
      ],
      "text/plain": [
       "<IPython.core.display.HTML object>"
      ]
     },
     "metadata": {},
     "output_type": "display_data"
    },
    {
     "data": {
      "text/html": [
       "\n",
       "                <audio controls=\"controls\" >\n",
       "                    <source src=\"https://s3.amazonaws.com/audio-experiments/examples/Punch_delay_2ms_0.996f_3000n.wav\" type=\"audio/x-wav\" />\n",
       "                    Your browser does not support the audio element.\n",
       "                </audio>\n",
       "              "
      ],
      "text/plain": [
       "<IPython.lib.display.Audio object>"
      ]
     },
     "metadata": {},
     "output_type": "display_data"
    }
   ],
   "source": [
    "delay_to_file(trumpet_bytes, trumpet_params, offset_ms=50, file_stem='wavs/Trumpet.wav',\n",
    "              factor=.76,num=10)\n",
    "delay_to_file(trumpet_bytes, trumpet_params, offset_ms=125, file_stem='wavs/Trumpet.wav',\n",
    "              factor=.7,num=10)\n",
    "delay_to_file(trumpet_bytes, trumpet_params, offset_ms=20, file_stem='wavs/Trumpet.wav',\n",
    "              factor=.97,num=300)\n",
    "delay_to_file(punch_bytes, punch_params, offset_ms=2, file_stem='wavs/Punch.wav',\n",
    "              factor=.996, num=3000)\n",
    "\n",
    "display_link_audio('Trumpet_delay_50ms_0.76f_10n.wav')\n",
    "display_link_audio('Trumpet_delay_125ms_0.7f_10n.wav')\n",
    "display_link_audio('Trumpet_delay_20ms_0.97f_300n.wav')\n",
    "display_link_audio('Punch_delay_2ms_0.996f_3000n.wav')"
   ]
  },
  {
   "cell_type": "markdown",
   "metadata": {},
   "source": [
    "### Next Steps\n",
    "Now that I've implemented a simple delay function, I'd like to make a few enhancements. \n",
    "\n",
    "This post proved that it's possible to use the standard library to do audio I/O and effects, but next time I will use audiolab and numpy arrays instead of bytes objects. This will make it much easier and more efficient to add and multiply.\n",
    "\n",
    "I would also like to build on this delay function to build higher-level effects. Varying the amount of delay applied to an audio clip instead of using a fixed offset with produce a [flanging][] effect. And combining multiple delays with different parameters will produce [reverb][]. \n",
    "\n",
    "I'm not satisfied with the way the \"factor\" parameter is used in the delay function, so it would be great to model decay in a way more similar to a natural sound.\n",
    "\n",
    "Another interesting problem will be applying delay to a live signal, rather than as a post-processing effect.\n",
    "\n",
    "And of course it will be nice to try this function with some new audio clips, as I'm getting really sick of that trumpet solo.\n",
    "\n",
    "Thanks for reading!\n",
    "\n",
    "\n",
    "[flanging]:https://en.wikipedia.org/wiki/Flanging\n",
    "[reverb]:https://en.wikipedia.org/wiki/Reverb"
   ]
  }
 ],
 "metadata": {
  "kernelspec": {
   "display_name": "Python 3",
   "language": "python",
   "name": "python3"
  },
  "language_info": {
   "codemirror_mode": {
    "name": "ipython",
    "version": 3
   },
   "file_extension": ".py",
   "mimetype": "text/x-python",
   "name": "python",
   "nbconvert_exporter": "python",
   "pygments_lexer": "ipython3",
   "version": "3.4.3"
  }
 },
 "nbformat": 4,
 "nbformat_minor": 0
}

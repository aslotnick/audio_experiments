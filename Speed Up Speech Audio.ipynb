{
 "cells": [
  {
   "cell_type": "code",
   "execution_count": null,
   "metadata": {
    "collapsed": false
   },
   "outputs": [],
   "source": [
    "import numpy\n",
    "from scipy.io import wavfile\n",
    "from IPython.display import Audio\n",
    "\n",
    "speech_rate, speech_data = wavfile.read('wavs/elon.wav')\n",
    "\n",
    "#discard one stereo channel to convert to mono\n",
    "mono_speech_data = speech_data[:,1]\n",
    "\n",
    "wavfile.write('wavs/elon_mono.wav', speech_rate, mono_speech_data)\n",
    "\n"
   ]
  },
  {
   "cell_type": "code",
   "execution_count": null,
   "metadata": {
    "collapsed": false
   },
   "outputs": [],
   "source": [
    "%matplotlib inline\n",
    "import matplotlib.pyplot as plt\n",
    "\n",
    "plt.plot(numpy.arange(mono_speech_data.size)/speech_rate, mono_speech_data)\n",
    "plt.xlabel('seconds')\n",
    "Audio('wavs/elon_mono.wav')"
   ]
  },
  {
   "cell_type": "code",
   "execution_count": null,
   "metadata": {
    "collapsed": false
   },
   "outputs": [],
   "source": [
    "#increase sample rate to speed up the audio, also increasing pitch\n",
    "wavfile.write('wavs/elon_mono_120.wav', int(speech_rate*1.2), mono_speech_data)\n",
    "plt.plot(numpy.arange(mono_speech_data.size)/int(speech_rate*1.2), mono_speech_data)\n",
    "Audio('wavs/elon_mono_120.wav')"
   ]
  },
  {
   "cell_type": "code",
   "execution_count": null,
   "metadata": {
    "collapsed": false
   },
   "outputs": [],
   "source": [
    "#inspired by http://stackoverflow.com/questions/939904/changing-speed-of-a-sound-file#939961\n",
    "#throw away some samples by removing every index divisible by 5\n",
    "#also increases pitch\n",
    "\n",
    "multiples_of_five = numpy.arange(5, mono_speech_data.size, 5)\n",
    "deleted = numpy.delete(mono_speech_data, multiples_of_five)\n",
    "wavfile.write('wavs/elon_mono_deleted.wav', speech_rate, deleted)\n",
    "plt.plot(numpy.arange(deleted.size)/speech_rate, deleted)\n",
    "Audio('wavs/elon_mono_deleted.wav')\n",
    "\n"
   ]
  },
  {
   "cell_type": "code",
   "execution_count": null,
   "metadata": {
    "collapsed": false
   },
   "outputs": [],
   "source": [
    "#naive window approach\n",
    "# divide up into windows of i samples, overlap the last j samples of each window with the beginning of the next\n",
    "window_size = 10\n",
    "overlap = 1\n",
    "overlapped = numpy.zeros(mono_speech_data.size)\n",
    "index = 0\n",
    "for i in range(0,overlapped.size-int(overlapped.size/10),10):\n",
    "    #print(i, i+10, (i*10)-i, (i*10)-i+10)\n",
    "    overlapped[i:i+10] += mono_speech_data[(i*10)-i:(i*10)-i+10]"
   ]
  },
  {
   "cell_type": "code",
   "execution_count": null,
   "metadata": {
    "collapsed": false
   },
   "outputs": [],
   "source": [
    "for i in range(10,10):\n",
    "    print(i)"
   ]
  },
  {
   "cell_type": "code",
   "execution_count": null,
   "metadata": {
    "collapsed": false
   },
   "outputs": [],
   "source": [
    "#VERY LOUD\n",
    "overlapped *=.005\n",
    "#wavfile.write('wavs/elon_mono_overlapped.wav', int(speech_rate/20), overlapped)\n",
    "plt.plot(numpy.arange(overlapped.size)/speech_rate, overlapped)\n",
    "#Audio('wavs/elon_mono_overlapped.wav')\n"
   ]
  },
  {
   "cell_type": "code",
   "execution_count": null,
   "metadata": {
    "collapsed": false
   },
   "outputs": [],
   "source": [
    "# similar to http://manual.audacityteam.org/index.php?title=Truncate_Silence\n",
    "threshold = 1000\n",
    "greater_index = numpy.greater(numpy.absolute(mono_speech_data), 150)\n",
    "above_threshold_data = mono_speech_data[greater_index]\n",
    "wavfile.write('wavs/elon_mono_threshold.wav', speech_rate, above_threshold_data)\n",
    "Audio('wavs/elon_mono_threshold.wav')\n",
    "#plt.plot(above_threshold_data)"
   ]
  },
  {
   "cell_type": "code",
   "execution_count": null,
   "metadata": {
    "collapsed": false
   },
   "outputs": [],
   "source": [
    "sotu_data.shape"
   ]
  },
  {
   "cell_type": "code",
   "execution_count": null,
   "metadata": {
    "collapsed": false
   },
   "outputs": [],
   "source": [
    "sotu_rate, sotu_data = wavfile.read('wavs/SOTU2016.wav')\n",
    "#plt.plot(sotu_data)"
   ]
  },
  {
   "cell_type": "code",
   "execution_count": null,
   "metadata": {
    "collapsed": false
   },
   "outputs": [],
   "source": [
    "greater_index = numpy.greater(numpy.absolute(sotu_data), 200)\n",
    "above_threshold_data = sotu_data[greater_index]\n",
    "wavfile.write('wavs/sotu_threshold.wav', sotu_rate, above_threshold_data)\n",
    "#Audio('wavs/sotu_mono_threshold.wav')"
   ]
  },
  {
   "cell_type": "code",
   "execution_count": null,
   "metadata": {
    "collapsed": true
   },
   "outputs": [],
   "source": []
  }
 ],
 "metadata": {
  "kernelspec": {
   "display_name": "Python 3",
   "language": "python",
   "name": "python3"
  },
  "language_info": {
   "codemirror_mode": {
    "name": "ipython",
    "version": 3
   },
   "file_extension": ".py",
   "mimetype": "text/x-python",
   "name": "python",
   "nbconvert_exporter": "python",
   "pygments_lexer": "ipython3",
   "version": "3.4.4"
  }
 },
 "nbformat": 4,
 "nbformat_minor": 0
}

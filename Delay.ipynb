{
 "cells": [
  {
   "cell_type": "markdown",
   "metadata": {},
   "source": [
    "The [Wave](https://docs.python.org/3.4/library/wave.html) module handles input and output of [Wav](https://en.wikipedia.org/wiki/WAV) audio files. Audio data is represented as a bytes object, which makes Wave less useful than some other modules that return a numpy array, but it has the benefit of being part of the python standard library. \n",
    "\n",
    "To work with the data in the bytes object we'll also need to know the number of [bytes per sample](https://en.wikipedia.org/wiki/Audio_bit_depth) and the [sample frequency][]. These examples will use mono audio only, but the nchannels parameter tells you whether the audio is stereo or mono.\n",
    "\n",
    "[sample frequency]: https://en.wikipedia.org/wiki/Sampling_(signal_processing)#Audio_sampling"
   ]
  },
  {
   "cell_type": "code",
   "execution_count": null,
   "metadata": {
    "collapsed": false
   },
   "outputs": [],
   "source": [
    "import wave\n",
    "\n",
    "def input_wave(filename,frames=10000000): #10000000 is an arbitrary large number of frames\n",
    "    with wave.open(filename,'rb') as wave_file:\n",
    "        params=wave_file.getparams()\n",
    "        audio=wave_file.readframes(frames)  \n",
    "    return params, audio"
   ]
  },
  {
   "cell_type": "markdown",
   "metadata": {},
   "source": [
    "This is a short mono audio clip for demonstration:"
   ]
  },
  {
   "cell_type": "code",
   "execution_count": null,
   "metadata": {
    "collapsed": false
   },
   "outputs": [],
   "source": [
    "from IPython.display import Audio\n",
    "Audio(filename='wavs/Trumpet.wav')"
   ]
  },
  {
   "cell_type": "code",
   "execution_count": null,
   "metadata": {
    "collapsed": false
   },
   "outputs": [],
   "source": [
    "trumpet_params, trumpet_bytes = input_wave('wavs/Trumpet.wav') #must be mono\n",
    "print(\"Parameters:\", trumpet_params, \"Data sample:\", trumpet_bytes[:10], sep='\\n')"
   ]
  },
  {
   "cell_type": "markdown",
   "metadata": {},
   "source": [
    "The basic idea behind delay is to combine a sound with a repeated version. The _add_ function from another standard library module, [Audioop](https://docs.python.org/3.4/library/audioop.html), can be used to combine the original sound with a delayed copy. To add these two audio signals together, they must be the same length. So to create the delayed signal, this function will add silence to the beginning and cut off the same amount of data at the end.\n",
    "\n",
    "\n",
    "So to create the audio delayed by "
   ]
  },
  {
   "cell_type": "code",
   "execution_count": null,
   "metadata": {
    "collapsed": false
   },
   "outputs": [],
   "source": [
    "import audioop\n",
    "\n",
    "def delay(audio_bytes,params,offset_ms,factor=1):\n",
    "    #calculate the number of bytes which corresponds to the offset in milliseconds, \n",
    "    #depending on sampwith and framerate\n",
    "    offset= params.sampwidth*offset_ms*int(params.framerate/1000)\n",
    "    #create some empty  of offet-length\n",
    "    beginning= b'\\0'*offset\n",
    "    #remove the same amount of data from the end\n",
    "    end= audio_bytes[:-offset]\n",
    "    return audioop.add(audio_bytes, beginning+ end, params.sampwidth)"
   ]
  },
  {
   "cell_type": "code",
   "execution_count": null,
   "metadata": {
    "collapsed": true
   },
   "outputs": [],
   "source": [
    "#output to file so we can use ipython notebook's Audio widget\n",
    "def output_wave(audio, params, stem, suffix):\n",
    "    #dynamically format the filename by passing in data\n",
    "    filename=stem.replace('.wav','_{}.wav'.format(suffix))\n",
    "    with wave.open(filename,'wb') as wave_file:\n",
    "        wave_file.setparams(params)\n",
    "        wave_file.writeframes(audio)"
   ]
  },
  {
   "cell_type": "code",
   "execution_count": null,
   "metadata": {
    "collapsed": false
   },
   "outputs": [],
   "source": [
    "#1-second delay\n",
    "delayed_bytes=delay(trumpet_bytes,trumpet_params,1000)\n",
    "output_wave(delayed_bytes, trumpet_params, 'wavs/Trumpet.wav','delay_{}'.format(1000))"
   ]
  },
  {
   "cell_type": "code",
   "execution_count": null,
   "metadata": {
    "collapsed": false
   },
   "outputs": [],
   "source": [
    "Audio('wavs/Trumpet_delay_1000.wav')"
   ]
  },
  {
   "cell_type": "markdown",
   "metadata": {},
   "source": [
    "To make this sound more like a realistic echo, we can change the volume of the delayed audio by multiplying it with audioop.mul. Note that "
   ]
  },
  {
   "cell_type": "code",
   "execution_count": null,
   "metadata": {
    "collapsed": true
   },
   "outputs": [],
   "source": [
    "#new delay function with factor\n",
    "def delay(audio_bytes,params,offset_ms,factor=1):\n",
    "    #calculate the number of bytes which corresponds to the offset in milliseconds, \n",
    "    #depending on sampwith and framerate\n",
    "    offset= params.sampwidth*offset_ms*int(params.framerate/1000)\n",
    "    #create some empty  of offet-length\n",
    "    beginning= b'\\0'*offset\n",
    "    #remove the same amount of data from the end\n",
    "    end= audio_bytes[:-offset]\n",
    "    #multiply the delayed portion by a factor\n",
    "    multiplied_end= audioop.mul(audio_bytes[:-offset],params.sampwidth,factor)\n",
    "    return audioop.add(audio_bytes, beginning+ multiplied_end, params.sampwidth)"
   ]
  },
  {
   "cell_type": "code",
   "execution_count": null,
   "metadata": {
    "collapsed": true
   },
   "outputs": [],
   "source": [
    "#helper function to try out lots of delays\n",
    "def delay_to_file(audio_bytes,params,offset_ms,file_stem,factor=1):\n",
    "    delayed_bytes=delay(audio_bytes,params,offset_ms,factor)\n",
    "    output_wave(delayed_bytes, params, file_stem,'delay_{}_{}'.format(offset_ms,factor))"
   ]
  },
  {
   "cell_type": "markdown",
   "metadata": {},
   "source": [
    "A single delay of 1-2 seconds is too long to sound like a natural echo, so this can be used for a musical effect."
   ]
  },
  {
   "cell_type": "code",
   "execution_count": null,
   "metadata": {
    "collapsed": false
   },
   "outputs": [],
   "source": [
    "delay_to_file(trumpet_bytes,trumpet_params, offset_ms=2000,file_stem='wavs/Trumpet.wav',factor=.25)\n",
    "delay_to_file(trumpet_bytes,trumpet_params, offset_ms=1000,file_stem='wavs/Trumpet.wav',factor=.25)\n",
    "\n",
    "from IPython.display import display\n",
    "display(\n",
    "    Audio('wavs/Trumpet_delay_2000_0.25.wav'),\n",
    "    Audio('wavs/Trumpet_delay_1000_0.25.wav')\n",
    "    )"
   ]
  },
  {
   "cell_type": "markdown",
   "metadata": {},
   "source": [
    "Adding 250-400 ms of delay gives the impression of a natural echo that might occur in a larger physical space."
   ]
  },
  {
   "cell_type": "code",
   "execution_count": null,
   "metadata": {
    "collapsed": false
   },
   "outputs": [],
   "source": [
    "delay_to_file(trumpet_bytes,trumpet_params, offset_ms=400, file_stem='wavs/Trumpet.wav',factor=.25)\n",
    "delay_to_file(trumpet_bytes,trumpet_params, offset_ms=400, file_stem='wavs/Trumpet.wav',factor=.1)\n",
    "delay_to_file(trumpet_bytes,trumpet_params, offset_ms=250, file_stem='wavs/Trumpet.wav',factor=.25)\n",
    "delay_to_file(trumpet_bytes,trumpet_params, offset_ms=250, file_stem='wavs/Trumpet.wav',factor=.1)\n",
    "\n",
    "display(\n",
    "    Audio('wavs/Trumpet_delay_400_0.25.wav'),\n",
    "    Audio('wavs/Trumpet_delay_400_0.1.wav'),\n",
    "    Audio('wavs/Trumpet_delay_250_0.25.wav'),\n",
    "    Audio('wavs/Trumpet_delay_250_0.1.wav')\n",
    "    )"
   ]
  },
  {
   "cell_type": "markdown",
   "metadata": {},
   "source": [
    "As delays get shorter, around 125 ms or less, they start to be percieved as a single sound rather than a distinct echo. This produces the effect of a [comb filter](https://en.wikipedia.org/wiki/Comb_filter) as certain frequencies get louder or softer due to interference. On this trumpet sample, 1-5 ms delay sounds a lot like a trumpet played through a [mute](http://www.summersong.net/teacher/trumpetlessons/brassinstrumentmutes/)."
   ]
  },
  {
   "cell_type": "code",
   "execution_count": null,
   "metadata": {
    "collapsed": false
   },
   "outputs": [],
   "source": [
    "delay_to_file(trumpet_bytes,trumpet_params, offset_ms=125,  file_stem='wavs/Trumpet.wav',factor=.25)\n",
    "delay_to_file(trumpet_bytes,trumpet_params, offset_ms=75,  file_stem='wavs/Trumpet.wav',factor=.25)\n",
    "delay_to_file(trumpet_bytes,trumpet_params, offset_ms=20,  file_stem='wavs/Trumpet.wav',factor=.75)\n",
    "delay_to_file(trumpet_bytes,trumpet_params, offset_ms=5,  file_stem='wavs/Trumpet.wav',factor=.75)\n",
    "delay_to_file(trumpet_bytes,trumpet_params, offset_ms=1,  file_stem='wavs/Trumpet.wav',factor=.75)\n",
    "\n",
    "display(\n",
    "    Audio('wavs/Trumpet_delay_125_0.25.wav'),\n",
    "    Audio('wavs/Trumpet_delay_75_0.25.wav'),\n",
    "    Audio('wavs/Trumpet_delay_20_0.75.wav'),\n",
    "    Audio('wavs/Trumpet_delay_5_0.75.wav'),\n",
    "    Audio('wavs/Trumpet_delay_1_0.75.wav')\n",
    "    )       "
   ]
  },
  {
   "cell_type": "code",
   "execution_count": null,
   "metadata": {
    "collapsed": false
   },
   "outputs": [],
   "source": [
    "from warnings import warn\n",
    "\n",
    "def multi_delay(audio_bytes,params,offset_ms,factor=1,num=1):\n",
    "    #calculate the number of bytes which corresponds to the offset in milliseconds, \n",
    "    #depending on sampwith and framerate\n",
    "    if factor>0.7 and num >3:\n",
    "        warn(\"These settings may produce a very loud audio file. Please use caution when listening\")\n",
    "    offset=params.sampwidth*offset_ms*int(params.framerate/1000)\n",
    "    #create a copy of the original to apply the delays\n",
    "    delayed_bytes=audio_bytes\n",
    "    #at each step of the loop, \"\n",
    "    for i in range(num):\n",
    "        end = delayed_bytes[:-offset]\n",
    "        #multiplied_end=end\n",
    "        multiplied_end= audioop.mul(end,params.sampwidth,factor**(i+1))\n",
    "        beginning = b'\\0'*offset\n",
    "        delayed_bytes= audioop.add(delayed_bytes, beginning+multiplied_end, params.sampwidth)\n",
    "    return delayed_bytes"
   ]
  },
  {
   "cell_type": "code",
   "execution_count": null,
   "metadata": {
    "collapsed": false
   },
   "outputs": [],
   "source": [
    "def multi_delay_to_file(audio_bytes,params,offset_ms,file_stem,factor=1,num=1):\n",
    "    echoed_bytes=multi_delay(audio_bytes,params,offset_ms,factor,num)\n",
    "    output_wave(echoed_bytes, params, file_stem,'multi_delay_{}_{}_{}'.format(offset_ms,factor,num))"
   ]
  },
  {
   "cell_type": "code",
   "execution_count": null,
   "metadata": {
    "collapsed": false
   },
   "outputs": [],
   "source": [
    "multi_delay_to_file(trumpet_bytes,trumpet_params,offset_ms=50,file_stem='wavs/Trumpet.wav',factor=.76,num=10)\n",
    "multi_delay_to_file(trumpet_bytes,trumpet_params,offset_ms=250,file_stem='wavs/Trumpet.wav',factor=.7,num=3)\n",
    "multi_delay_to_file(trumpet_bytes,trumpet_params,offset_ms=3000,file_stem='wavs/Trumpet.wav',factor=.9,num=3)\n",
    "display(\n",
    "    Audio(filename='wavs/Trumpet_multi_delay_50_0.76_10.wav'),\n",
    "    Audio(filename='wavs/Trumpet_multi_delay_250_0.7_3.wav'),\n",
    "    Audio(filename='wavs/Trumpet_multi_delay_3000_0.9_3.wav'),\n",
    ")"
   ]
  },
  {
   "cell_type": "code",
   "execution_count": null,
   "metadata": {
    "collapsed": true
   },
   "outputs": [],
   "source": [
    "# add extra space at the end for the delays\n",
    "def multi_delay(audio_bytes,params,offset_ms,factor=1,num=1):\n",
    "    offset=params.sampwidth*offset_ms*int(params.framerate/1000)\n",
    "    longer_bytes=audio_bytes+b'\\0'*offset*(num) #leave enough room for the delays\n",
    "    for i in range(num):\n",
    "        end = longer_bytes[:-offset*(i+1)]\n",
    "        #multiplied_end=end\n",
    "        multiplied_end= audioop.mul(end,params.sampwidth,factor**(i+1))\n",
    "        beginning = b'\\0'*offset*(i+1)\n",
    "        longer_bytes= audioop.add(longer_bytes, beginning+multiplied_end, params.sampwidth)\n",
    "    return longer_bytes"
   ]
  },
  {
   "cell_type": "code",
   "execution_count": null,
   "metadata": {
    "collapsed": false
   },
   "outputs": [],
   "source": [
    "from IPython.display import FileLinks\n",
    "FileLinks('wavs/')"
   ]
  },
  {
   "cell_type": "code",
   "execution_count": null,
   "metadata": {
    "collapsed": true
   },
   "outputs": [],
   "source": []
  }
 ],
 "metadata": {
  "kernelspec": {
   "display_name": "Python 3",
   "language": "python",
   "name": "python3"
  },
  "language_info": {
   "codemirror_mode": {
    "name": "ipython",
    "version": 3
   },
   "file_extension": ".py",
   "mimetype": "text/x-python",
   "name": "python",
   "nbconvert_exporter": "python",
   "pygments_lexer": "ipython3",
   "version": "3.4.3"
  }
 },
 "nbformat": 4,
 "nbformat_minor": 0
}

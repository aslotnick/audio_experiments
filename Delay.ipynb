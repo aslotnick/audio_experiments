{
 "cells": [
  {
   "cell_type": "markdown",
   "metadata": {},
   "source": [
    "# Audio Delay using the Python Standard Library\n",
    "\n",
    "_Delay_ is a fundamental audio effect. The idea of playing a sound and repeating it once after some time is simple, but it is used extensively in music production as a standalone effect and as the basis of _reverb_, _chorus_, and _flanging_. Implementing this effect is a way of testing audio support in the standard library and understanding how delay works.\n",
    "\n",
    "Using the delay function in this post, you can generate the following audio sequences based on the input:\n"
   ]
  },
  {
   "cell_type": "code",
   "execution_count": 122,
   "metadata": {
    "collapsed": false,
    "scrolled": true
   },
   "outputs": [
    {
     "name": "stdout",
     "output_type": "stream",
     "text": [
      "Input:\n"
     ]
    },
    {
     "data": {
      "text/html": [
       "\n",
       "                <audio controls=\"controls\" >\n",
       "                    <source src=\"https://s3.amazonaws.com/audio-experiments/examples/Trumpet.wav\" type=\"audio/x-wav\" />\n",
       "                    Your browser does not support the audio element.\n",
       "                </audio>\n",
       "              "
      ],
      "text/plain": [
       "<IPython.lib.display.Audio object>"
      ]
     },
     "metadata": {},
     "output_type": "display_data"
    },
    {
     "name": "stdout",
     "output_type": "stream",
     "text": [
      "Outputs with delay:\n"
     ]
    },
    {
     "data": {
      "text/html": [
       "\n",
       "                <audio controls=\"controls\" >\n",
       "                    <source src=\"https://s3.amazonaws.com/audio-experiments/examples/Trumpet_delay_700ms.wav\" type=\"audio/x-wav\" />\n",
       "                    Your browser does not support the audio element.\n",
       "                </audio>\n",
       "              "
      ],
      "text/plain": [
       "<IPython.lib.display.Audio object>"
      ]
     },
     "metadata": {},
     "output_type": "display_data"
    },
    {
     "data": {
      "text/html": [
       "\n",
       "                <audio controls=\"controls\" >\n",
       "                    <source src=\"https://s3.amazonaws.com/audio-experiments/examples/Trumpet_delay_1ms_0.75f_1n.wav\" type=\"audio/x-wav\" />\n",
       "                    Your browser does not support the audio element.\n",
       "                </audio>\n",
       "              "
      ],
      "text/plain": [
       "<IPython.lib.display.Audio object>"
      ]
     },
     "metadata": {},
     "output_type": "display_data"
    },
    {
     "data": {
      "text/html": [
       "\n",
       "                <audio controls=\"controls\" >\n",
       "                    <source src=\"https://s3.amazonaws.com/audio-experiments/examples/Trumpet_delay_250ms_0.7f_10n.wav\" type=\"audio/x-wav\" />\n",
       "                    Your browser does not support the audio element.\n",
       "                </audio>\n",
       "              "
      ],
      "text/plain": [
       "<IPython.lib.display.Audio object>"
      ]
     },
     "metadata": {},
     "output_type": "display_data"
    }
   ],
   "source": [
    "from IPython.display import Audio,display,Markdown\n",
    "print(\"Input:\")\n",
    "display(\n",
    "    Audio(url='https://s3.amazonaws.com/audio-experiments/examples/Trumpet.wav', embed=False)\n",
    "    )\n",
    "print(\"Outputs with delay:\")\n",
    "display(\n",
    "    Audio(url='https://s3.amazonaws.com/audio-experiments/examples/Trumpet_delay_700ms.wav', embed=False),\n",
    "    Audio(url='https://s3.amazonaws.com/audio-experiments/examples/Trumpet_delay_1ms_0.75f_1n.wav', embed=False),\n",
    "    Audio(url='https://s3.amazonaws.com/audio-experiments/examples/Trumpet_delay_250ms_0.7f_10n.wav', embed=False)\n",
    "    )"
   ]
  },
  {
   "cell_type": "markdown",
   "metadata": {},
   "source": [
    "### Get some audio\n",
    "The [Wave][] module handles input and output of [Wav][] audio files. Audio data is represented as a bytes object, which makes this standard library module less useful than some other modules that return a numpy array (e.g. [audiolab][]).\n",
    "\n",
    "To work with the data in the bytes object we'll also need to know the number of [bytes per sample][] and the [sample frequency][]. These examples only support mono audio, so the nchannels parameter will need to be equal to 1.\n",
    "\n",
    "[Wave]: https://docs.python.org/3.4/library/wave.html\n",
    "[Wav]: https://en.wikipedia.org/wiki/WAV\n",
    "[bytes per sample]: https://en.wikipedia.org/wiki/Audio_bit_depth\n",
    "[audiolab]: https://pypi.python.org/pypi/scikits.audiolab\n",
    "[sample frequency]: https://en.wikipedia.org/wiki/Sampling_(signal_processing)#Audio_sampling"
   ]
  },
  {
   "cell_type": "code",
   "execution_count": null,
   "metadata": {
    "collapsed": false
   },
   "outputs": [],
   "source": [
    "import wave\n",
    "\n",
    "def input_wave(filename,frames=10000000): #10000000 is an arbitrary large number of frames\n",
    "    with wave.open(filename,'rb') as wave_file:\n",
    "        params=wave_file.getparams()\n",
    "        audio=wave_file.readframes(frames)  \n",
    "        if params.nchannels!=1:\n",
    "            raise Exception(\"The input audio should be mono for these examples\")\n",
    "    return params, audio\n",
    "\n",
    "#output to file so we can use ipython notebook's Audio widget\n",
    "def output_wave(audio, params, stem, suffix):\n",
    "    #dynamically format the filename by passing in data\n",
    "    filename=stem.replace('.wav','_{}.wav'.format(suffix))\n",
    "    with wave.open(filename,'wb') as wave_file:\n",
    "        wave_file.setparams(params)\n",
    "        wave_file.writeframes(audio)"
   ]
  },
  {
   "cell_type": "markdown",
   "metadata": {},
   "source": [
    "This is a short mono audio clip for demonstration:"
   ]
  },
  {
   "cell_type": "code",
   "execution_count": 123,
   "metadata": {
    "collapsed": false
   },
   "outputs": [
    {
     "name": "stdout",
     "output_type": "stream",
     "text": [
      "Bytes per sample: 3\n",
      "Samples per second: 44100\n",
      "First 10 bytes:\n",
      "b'\\x00\\x00\\x00\\x13\\x00\\x00\\x1f\\x00\\x005'\n"
     ]
    }
   ],
   "source": [
    "trumpet_params, trumpet_bytes = input_wave('wavs/Trumpet.wav') #must be mono\n",
    "print(\"Bytes per sample: {}\".format(trumpet_params.sampwidth), \n",
    "      \"Samples per second: {}\".format(trumpet_params.framerate),\n",
    "      \"First 10 bytes:\", trumpet_bytes[:10], sep='\\n')"
   ]
  },
  {
   "cell_type": "markdown",
   "metadata": {},
   "source": [
    "### Implement a delay function\n",
    "The simplest delay function will create a copy of the input, add some silence (0's in the bytes object) to the beginning of the copy, and combine it with the original input. The _add_ function from [Audioop](https://docs.python.org/3.4/library/audioop.html) will add the two bytes objects together. Audioop.add requires both pieces of audio to have the same length, so we also need to cut off the end of the copy. \n"
   ]
  },
  {
   "cell_type": "code",
   "execution_count": null,
   "metadata": {
    "collapsed": false
   },
   "outputs": [],
   "source": [
    "from audioop import add\n",
    "\n",
    "def delay(audio_bytes,params,offset_ms):\n",
    "    #calculate the number of bytes which corresponds to the offset in milliseconds, \n",
    "    #depending on sampwith and framerate\n",
    "    offset= params.sampwidth*offset_ms*int(params.framerate/1000)\n",
    "    #create some empty space of offset-length\n",
    "    beginning= b'\\0'*offset\n",
    "    #remove the same amount of space from the end\n",
    "    end= audio_bytes[:-offset]\n",
    "    return add(audio_bytes, beginning+end, params.sampwidth)"
   ]
  },
  {
   "cell_type": "code",
   "execution_count": 124,
   "metadata": {
    "collapsed": false
   },
   "outputs": [
    {
     "data": {
      "text/html": [
       "\n",
       "                <audio controls=\"controls\" >\n",
       "                    <source src=\"https://s3.amazonaws.com/audio-experiments/examples/Trumpet_delay_1000ms.wav\" type=\"audio/x-wav\" />\n",
       "                    Your browser does not support the audio element.\n",
       "                </audio>\n",
       "              "
      ],
      "text/plain": [
       "<IPython.lib.display.Audio object>"
      ]
     },
     "metadata": {},
     "output_type": "display_data"
    },
    {
     "data": {
      "text/html": [
       "\n",
       "                <audio controls=\"controls\" >\n",
       "                    <source src=\"https://s3.amazonaws.com/audio-experiments/examples/Trumpet_delay_700ms.wav\" type=\"audio/x-wav\" />\n",
       "                    Your browser does not support the audio element.\n",
       "                </audio>\n",
       "              "
      ],
      "text/plain": [
       "<IPython.lib.display.Audio object>"
      ]
     },
     "metadata": {},
     "output_type": "display_data"
    }
   ],
   "source": [
    "#1-second delay\n",
    "delayed_bytes_1000=delay(trumpet_bytes,trumpet_params,1000)\n",
    "output_wave(delayed_bytes_1000, trumpet_params, 'wavs/Trumpet.wav','delay_{}ms'.format(1000))\n",
    "#700 ms delay\n",
    "delayed_bytes_700=delay(trumpet_bytes,trumpet_params,700)\n",
    "output_wave(delayed_bytes_700, trumpet_params, 'wavs/Trumpet.wav','delay_{}ms'.format(700))\n",
    "\n",
    "display(\n",
    "    Audio(url='https://s3.amazonaws.com/audio-experiments/examples/Trumpet_delay_1000ms.wav', embed=False),\n",
    "    Audio(url='https://s3.amazonaws.com/audio-experiments/examples/Trumpet_delay_700ms.wav', embed=False)\n",
    "    )"
   ]
  },
  {
   "cell_type": "markdown",
   "metadata": {},
   "source": [
    "### Change the delayed audio's volume\n",
    "To make this sound more like a realistic echo, we can change the volume of the delayed audio by multiplying it using audioop.mul. Note that multiplying each sample by one half is not the same as reducing the percieved loudness by one half."
   ]
  },
  {
   "cell_type": "code",
   "execution_count": null,
   "metadata": {
    "collapsed": true
   },
   "outputs": [],
   "source": [
    "from audioop import mul\n",
    "#new delay function with factor\n",
    "def delay(audio_bytes,params,offset_ms,factor=1):\n",
    "    #calculate the number of bytes which corresponds to the offset in milliseconds\n",
    "    #depending on sampwith and framerate\n",
    "    offset= params.sampwidth*offset_ms*int(params.framerate/1000)\n",
    "    #create some empty space of offset-length\n",
    "    beginning= b'\\0'*offset\n",
    "    #remove the same amount of space from the end\n",
    "    end= audio_bytes[:-offset]\n",
    "    #multiply the delayed portion by a factor\n",
    "    multiplied_end= mul(audio_bytes[:-offset],params.sampwidth,factor)\n",
    "    return add(audio_bytes, beginning+ multiplied_end, params.sampwidth)"
   ]
  },
  {
   "cell_type": "code",
   "execution_count": 125,
   "metadata": {
    "collapsed": false
   },
   "outputs": [
    {
     "data": {
      "text/html": [
       "\n",
       "                <audio controls=\"controls\" >\n",
       "                    <source src=\"https://s3.amazonaws.com/audio-experiments/examples/Trumpet_delay_1000ms_0.5f.wav\" type=\"audio/x-wav\" />\n",
       "                    Your browser does not support the audio element.\n",
       "                </audio>\n",
       "              "
      ],
      "text/plain": [
       "<IPython.lib.display.Audio object>"
      ]
     },
     "metadata": {},
     "output_type": "display_data"
    },
    {
     "data": {
      "text/html": [
       "\n",
       "                <audio controls=\"controls\" >\n",
       "                    <source src=\"https://s3.amazonaws.com/audio-experiments/examples/Trumpet_delay_700ms_0.25f.wav\" type=\"audio/x-wav\" />\n",
       "                    Your browser does not support the audio element.\n",
       "                </audio>\n",
       "              "
      ],
      "text/plain": [
       "<IPython.lib.display.Audio object>"
      ]
     },
     "metadata": {},
     "output_type": "display_data"
    }
   ],
   "source": [
    "#1-second delay with factor .5\n",
    "delayed_bytes_1000=delay(trumpet_bytes,trumpet_params,offset_ms=1000, factor=0.5)\n",
    "output_wave(delayed_bytes_1000, trumpet_params, 'wavs/Trumpet.wav','delay_1000ms_0.5f')\n",
    "#700 ms delay with factor .75\n",
    "delayed_bytes_700=delay(trumpet_bytes,trumpet_params,offset_ms=700, factor=0.25)\n",
    "output_wave(delayed_bytes_700, trumpet_params, 'wavs/Trumpet.wav','delay_700ms_0.25f')\n",
    "\n",
    "display(\n",
    "    Audio(url='https://s3.amazonaws.com/audio-experiments/examples/Trumpet_delay_1000ms_0.5f.wav', embed=False),\n",
    "    Audio(url='https://s3.amazonaws.com/audio-experiments/examples/Trumpet_delay_700ms_0.25f.wav', embed=False)\n",
    "    )"
   ]
  },
  {
   "cell_type": "markdown",
   "metadata": {},
   "source": [
    "### Multiple delays\n",
    "Another enhancement to the delay function is to allow for multiple repeats. Each time a repeat occurs, the volume will get progressively louder or softer based on the factor."
   ]
  },
  {
   "cell_type": "code",
   "execution_count": null,
   "metadata": {
    "collapsed": false
   },
   "outputs": [],
   "source": [
    "from warnings import warn\n",
    "\n",
    "def delay(audio_bytes,params,offset_ms,factor=1,num=1):\n",
    "    if factor>0.7 and num >3:\n",
    "        warn(\"These settings may produce a very loud audio file. Please use caution when listening\")\n",
    "    #calculate the number of bytes which corresponds to the offset in milliseconds, \n",
    "    #depending on sampwith and framerate\n",
    "    offset=params.sampwidth*offset_ms*int(params.framerate/1000)\n",
    "    #create a copy of the original to apply the delays\n",
    "    delayed_bytes=audio_bytes\n",
    "    #at each step of the loop, \"\n",
    "    for i in range(num):\n",
    "        end = delayed_bytes[:-offset]\n",
    "        #multiplied_end=end\n",
    "        multiplied_end= mul(end,params.sampwidth,factor/(i+1))\n",
    "        beginning = b'\\0'*offset\n",
    "        delayed_bytes= add(delayed_bytes, beginning+multiplied_end, params.sampwidth)\n",
    "    return delayed_bytes"
   ]
  },
  {
   "cell_type": "code",
   "execution_count": 126,
   "metadata": {
    "collapsed": false
   },
   "outputs": [
    {
     "data": {
      "text/html": [
       "\n",
       "                <audio controls=\"controls\" >\n",
       "                    <source src=\"https://s3.amazonaws.com/audio-experiments/examples/Trumpet_delay_1000ms_0.5f_3n.wav\" type=\"audio/x-wav\" />\n",
       "                    Your browser does not support the audio element.\n",
       "                </audio>\n",
       "              "
      ],
      "text/plain": [
       "<IPython.lib.display.Audio object>"
      ]
     },
     "metadata": {},
     "output_type": "display_data"
    },
    {
     "data": {
      "text/html": [
       "\n",
       "                <audio controls=\"controls\" >\n",
       "                    <source src=\"https://s3.amazonaws.com/audio-experiments/examples/Trumpet_delay_700ms_0.25f_6n.wav\" type=\"audio/x-wav\" />\n",
       "                    Your browser does not support the audio element.\n",
       "                </audio>\n",
       "              "
      ],
      "text/plain": [
       "<IPython.lib.display.Audio object>"
      ]
     },
     "metadata": {},
     "output_type": "display_data"
    }
   ],
   "source": [
    "#1-second delay with factor .5, 3 repeats\n",
    "delayed_bytes_1000=delay(trumpet_bytes,trumpet_params,offset_ms=1000, factor=0.5, num=3)\n",
    "output_wave(delayed_bytes_1000, trumpet_params, 'wavs/Trumpet.wav','delay_1000ms_0.5f_3n')\n",
    "#700 ms delay with factor .7, 6 repeats\n",
    "delayed_bytes_700=delay(trumpet_bytes,trumpet_params,offset_ms=700, factor=0.7, num=6)\n",
    "output_wave(delayed_bytes_700, trumpet_params, 'wavs/Trumpet.wav','delay_700ms_0.7f_6n')\n",
    "\n",
    "display(\n",
    "    Audio(url='https://s3.amazonaws.com/audio-experiments/examples/Trumpet_delay_1000ms_0.5f_3n.wav', embed=False),\n",
    "    Audio(url='https://s3.amazonaws.com/audio-experiments/examples/Trumpet_delay_700ms_0.25f_6n.wav', embed=False)\n",
    "    )"
   ]
  },
  {
   "cell_type": "markdown",
   "metadata": {},
   "source": [
    "### Leave space at the end\n",
    "The multi-delays above output a sound of the same length as the original. To give more time to hear the effects, let's increase the length to allow every repeat to finish."
   ]
  },
  {
   "cell_type": "code",
   "execution_count": null,
   "metadata": {
    "collapsed": false
   },
   "outputs": [],
   "source": [
    "#TODO - the amount of space is not correct\n",
    "\n",
    "# add extra space at the end for the delays\n",
    "def delay(audio_bytes,params,offset_ms,factor=1,num=1):\n",
    "    offset=params.sampwidth*offset_ms*int(params.framerate/1000)\n",
    "    longer_bytes=audio_bytes+b'\\0'*offset*(num+1) #leave enough room for the original plus the delays\n",
    "    #print(len(audio_bytes), offset, num, len(b'\\0'*offset*(num+1)), len(longer_bytes))\n",
    "    for i in range(num):\n",
    "        #print(i)\n",
    "        end = longer_bytes[:-offset*(i+1)]\n",
    "        multiplied_end= mul(end,params.sampwidth,factor/(i+1))\n",
    "        beginning = b'\\0'*offset*(i+1)\n",
    "        longer_bytes= add(longer_bytes, beginning+multiplied_end, params.sampwidth)\n",
    "    return longer_bytes"
   ]
  },
  {
   "cell_type": "code",
   "execution_count": null,
   "metadata": {
    "collapsed": false
   },
   "outputs": [],
   "source": [
    "#1-second delay with factor .5, 3 repeats\n",
    "delayed_bytes_1000=delay(trumpet_bytes,trumpet_params,offset_ms=1000, factor=0.5, num=3)\n",
    "output_wave(delayed_bytes_1000, trumpet_params, 'wavs/Trumpet.wav','delay_1000ms_0.5f_3n')\n",
    "#700 ms delay with factor .75, 6 repeats\n",
    "delayed_bytes_700=delay(trumpet_bytes,trumpet_params,offset_ms=700, factor=0.7, num=6)\n",
    "output_wave(delayed_bytes_700, trumpet_params, 'wavs/Trumpet.wav','delay_700ms_0.7f_6n')\n",
    "\n",
    "display(\n",
    "    #Audio(url='https://s3.amazonaws.com/audio-experiments/examples/Trumpet_delay_1000ms_0.5f_3n.wav', embed=False),\n",
    "    #Audio(url='https://s3.amazonaws.com/audio-experiments/examples/Trumpet_delay_700ms_0.25f_6n.wav', embed=False)\n",
    "    #Audio('wavs/Trumpet_delay_1000ms_0.5f_3n.wav'),\n",
    "    #Audio('wavs/Trumpet_delay_700ms_0.7f_6n.wav')\n",
    "    )"
   ]
  },
  {
   "cell_type": "markdown",
   "metadata": {},
   "source": [
    "### Test out offset lengths and volume factors\n",
    "\n",
    "The best way to understand how different parameters affect the final sound is to try out a lot of examples. delay_to_file is a helper function to speed up this process."
   ]
  },
  {
   "cell_type": "code",
   "execution_count": null,
   "metadata": {
    "collapsed": false
   },
   "outputs": [],
   "source": [
    "#helper function to try out lots of delays\n",
    "def delay_to_file(audio_bytes,params,offset_ms,file_stem,factor=1,num=1):\n",
    "    echoed_bytes=delay(audio_bytes,params,offset_ms,factor,num)\n",
    "    output_wave(echoed_bytes, params, file_stem,'delay_{}ms_{}f_{}n'.format(offset_ms,factor,num))"
   ]
  },
  {
   "cell_type": "markdown",
   "metadata": {},
   "source": [
    "A single delay of 1-2 seconds is too long to sound like a natural echo, so this can be used for a musical effect."
   ]
  },
  {
   "cell_type": "code",
   "execution_count": null,
   "metadata": {
    "collapsed": false
   },
   "outputs": [],
   "source": [
    "delay_to_file(trumpet_bytes,trumpet_params, offset_ms=2000,file_stem='wavs/Trumpet.wav',factor=.5)\n",
    "delay_to_file(trumpet_bytes,trumpet_params, offset_ms=1000,file_stem='wavs/Trumpet.wav',factor=.5)\n",
    "\n",
    "from IPython.display import display\n",
    "display(\n",
    "    Audio('wavs/Trumpet_delay_2000_0.5.wav'),\n",
    "    Audio('wavs/Trumpet_delay_1000_0.5.wav')\n",
    "    )"
   ]
  },
  {
   "cell_type": "markdown",
   "metadata": {},
   "source": [
    "Adding 250-400 ms of delay gives the impression of a natural echo that might occur in a larger physical space."
   ]
  },
  {
   "cell_type": "code",
   "execution_count": null,
   "metadata": {
    "collapsed": false
   },
   "outputs": [],
   "source": [
    "delay_to_file(trumpet_bytes,trumpet_params, offset_ms=400, file_stem='wavs/Trumpet.wav',factor=.5)\n",
    "delay_to_file(trumpet_bytes,trumpet_params, offset_ms=400, file_stem='wavs/Trumpet.wav',factor=.25)\n",
    "delay_to_file(trumpet_bytes,trumpet_params, offset_ms=250, file_stem='wavs/Trumpet.wav',factor=.5)\n",
    "delay_to_file(trumpet_bytes,trumpet_params, offset_ms=250, file_stem='wavs/Trumpet.wav',factor=.25)\n",
    "\n",
    "display(\n",
    "    Audio('wavs/Trumpet_delay_400_0.5.wav'),\n",
    "    Audio('wavs/Trumpet_delay_400_0.25.wav'),\n",
    "    Audio('wavs/Trumpet_delay_250_0.5.wav'),\n",
    "    Audio('wavs/Trumpet_delay_250_0.25.wav')\n",
    "    )"
   ]
  },
  {
   "cell_type": "markdown",
   "metadata": {},
   "source": [
    "As delays get shorter, around 125 ms or less, the effect starts to be percieved as a single sound rather than a distinct echo. This produces the effect of a [comb filter](https://en.wikipedia.org/wiki/Comb_filter) as certain frequencies get louder or softer due to interference. On this trumpet sample, 1-5 ms delay sounds a lot like a trumpet played through a [mute](http://www.summersong.net/teacher/trumpetlessons/brassinstrumentmutes/)."
   ]
  },
  {
   "cell_type": "code",
   "execution_count": null,
   "metadata": {
    "collapsed": false
   },
   "outputs": [],
   "source": [
    "delay_to_file(trumpet_bytes,trumpet_params, offset_ms=125,  file_stem='wavs/Trumpet.wav',factor=.5)\n",
    "delay_to_file(trumpet_bytes,trumpet_params, offset_ms=75,  file_stem='wavs/Trumpet.wav',factor=.5)\n",
    "delay_to_file(trumpet_bytes,trumpet_params, offset_ms=20,  file_stem='wavs/Trumpet.wav',factor=.75)\n",
    "delay_to_file(trumpet_bytes,trumpet_params, offset_ms=5,  file_stem='wavs/Trumpet.wav',factor=.75)\n",
    "delay_to_file(trumpet_bytes,trumpet_params, offset_ms=1,  file_stem='wavs/Trumpet.wav',factor=.75)\n",
    "\n",
    "display(\n",
    "    Audio('wavs/Trumpet_delay_125_0.5.wav'),\n",
    "    Audio('wavs/Trumpet_delay_75_0.5.wav'),\n",
    "    Audio('wavs/Trumpet_delay_20_0.75.wav'),\n",
    "    Audio('wavs/Trumpet_delay_5_0.75.wav'),\n",
    "    Audio('wavs/Trumpet_delay_1_0.75.wav')\n",
    "    )       "
   ]
  },
  {
   "cell_type": "code",
   "execution_count": null,
   "metadata": {
    "collapsed": false
   },
   "outputs": [],
   "source": [
    "delay_to_file(trumpet_bytes,trumpet_params,offset_ms=50,file_stem='wavs/Trumpet.wav',factor=.76,num=10)\n",
    "delay_to_file(trumpet_bytes,trumpet_params,offset_ms=250,file_stem='wavs/Trumpet.wav',factor=.7,num=10)\n",
    "delay_to_file(trumpet_bytes,trumpet_params,offset_ms=1000,file_stem='wavs/Trumpet.wav',factor=.9,num=3)\n",
    "display(\n",
    "    Audio(filename='wavs/Trumpet_delay_50ms_0.76f_10n.wav'),\n",
    "    Audio(filename='wavs/Trumpet_delay_250ms_0.7f_10n.wav'),\n",
    "    Audio(filename='wavs/Trumpet_delay_1000ms_0.9f_3n.wav'),\n",
    ")"
   ]
  },
  {
   "cell_type": "code",
   "execution_count": null,
   "metadata": {
    "collapsed": false
   },
   "outputs": [],
   "source": [
    "from IPython.display import FileLinks\n",
    "FileLinks('wavs/')"
   ]
  },
  {
   "cell_type": "code",
   "execution_count": null,
   "metadata": {
    "collapsed": true
   },
   "outputs": [],
   "source": []
  }
 ],
 "metadata": {
  "kernelspec": {
   "display_name": "Python 3",
   "language": "python",
   "name": "python3"
  },
  "language_info": {
   "codemirror_mode": {
    "name": "ipython",
    "version": 3
   },
   "file_extension": ".py",
   "mimetype": "text/x-python",
   "name": "python",
   "nbconvert_exporter": "python",
   "pygments_lexer": "ipython3",
   "version": "3.4.3"
  }
 },
 "nbformat": 4,
 "nbformat_minor": 0
}

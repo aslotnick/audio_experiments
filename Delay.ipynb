{
 "cells": [
  {
   "cell_type": "markdown",
   "metadata": {},
   "source": [
    "### [andrewslotnick.com](http://andrewslotnick.com)\n",
    "---\n",
    "# Audio Delay with Python\n",
    "[Notebook source code](https://github.com/aslotnick/audio_experiments/blob/master/Delay.ipynb)\n",
    "\n",
    "_Delay_ is a fundamental audio effect. The idea of playing a sound and repeating it after some time is simple, but it is used extensively in music production as a standalone effect and as the basis of _reverb_, _chorus_, and _flanging_. My motivation for implementing this effect is to test out the  audio support in the standard library and to understand how delay works.\n",
    "\n",
    "To implement a delay function we'll need to read and write audio data, add two audio signals together, change a signal's volume, and create empty space at the end. The final version of the function will be able to generate the following sound files (and many more) based on the input."
   ]
  },
  {
   "cell_type": "code",
   "execution_count": 1,
   "metadata": {
    "collapsed": false
   },
   "outputs": [
    {
     "name": "stdout",
     "output_type": "stream",
     "text": [
      "Input:\n"
     ]
    },
    {
     "data": {
      "text/html": [
       "\n",
       "                <audio controls=\"controls\" >\n",
       "                    <source src=\"https://s3.amazonaws.com/audio-experiments/examples/Trumpet.wav\" type=\"audio/x-wav\" />\n",
       "                    Your browser does not support the audio element.\n",
       "                </audio>\n",
       "              "
      ],
      "text/plain": [
       "<IPython.lib.display.Audio object>"
      ]
     },
     "metadata": {},
     "output_type": "display_data"
    },
    {
     "name": "stdout",
     "output_type": "stream",
     "text": [
      "Outputs with delay:\n"
     ]
    },
    {
     "data": {
      "text/html": [
       "\n",
       "                <audio controls=\"controls\" >\n",
       "                    <source src=\"https://s3.amazonaws.com/audio-experiments/examples/Trumpet_delay_700ms.wav\" type=\"audio/x-wav\" />\n",
       "                    Your browser does not support the audio element.\n",
       "                </audio>\n",
       "              "
      ],
      "text/plain": [
       "<IPython.lib.display.Audio object>"
      ]
     },
     "metadata": {},
     "output_type": "display_data"
    },
    {
     "data": {
      "text/html": [
       "\n",
       "                <audio controls=\"controls\" >\n",
       "                    <source src=\"https://s3.amazonaws.com/audio-experiments/examples/Trumpet_delay_1ms_0.75f_1n.wav\" type=\"audio/x-wav\" />\n",
       "                    Your browser does not support the audio element.\n",
       "                </audio>\n",
       "              "
      ],
      "text/plain": [
       "<IPython.lib.display.Audio object>"
      ]
     },
     "metadata": {},
     "output_type": "display_data"
    },
    {
     "data": {
      "text/html": [
       "\n",
       "                <audio controls=\"controls\" >\n",
       "                    <source src=\"https://s3.amazonaws.com/audio-experiments/examples/Trumpet_delay_250ms_0.7f_10n.wav\" type=\"audio/x-wav\" />\n",
       "                    Your browser does not support the audio element.\n",
       "                </audio>\n",
       "              "
      ],
      "text/plain": [
       "<IPython.lib.display.Audio object>"
      ]
     },
     "metadata": {},
     "output_type": "display_data"
    }
   ],
   "source": [
    "from IPython.display import Audio,display\n",
    "print(\"Input:\")\n",
    "display(Audio(url='https://s3.amazonaws.com/audio-experiments/examples/Trumpet.wav', embed=False))\n",
    "print(\"Outputs with delay:\")\n",
    "display(Audio(url='https://s3.amazonaws.com/audio-experiments/examples/Trumpet_delay_700ms.wav', embed=False),\n",
    "        Audio(url='https://s3.amazonaws.com/audio-experiments/examples/Trumpet_delay_1ms_0.75f_1n.wav', embed=False),\n",
    "        Audio(url='https://s3.amazonaws.com/audio-experiments/examples/Trumpet_delay_250ms_0.7f_10n.wav', embed=False))"
   ]
  },
  {
   "cell_type": "markdown",
   "metadata": {},
   "source": [
    "## Get some audio\n",
    "The [Wave][] module handles input and output of [Wav][] audio files. Audio data is represented as a bytes object, which makes this standard library module less useful than some other modules that return a numpy array (e.g. [audiolab][]).\n",
    "\n",
    "To work with the data in the bytes object we'll also need to know the number of [bytes per sample][] and the [sample frequency][]. These examples only support mono audio, so the nchannels parameter will need to be equal to 1.\n",
    "\n",
    "[Wave]: https://docs.python.org/3.4/library/wave.html\n",
    "[Wav]: https://en.wikipedia.org/wiki/WAV\n",
    "[bytes per sample]: https://en.wikipedia.org/wiki/Audio_bit_depth\n",
    "[audiolab]: https://pypi.python.org/pypi/scikits.audiolab\n",
    "[sample frequency]: https://en.wikipedia.org/wiki/Sampling_(signal_processing)#Audio_sampling"
   ]
  },
  {
   "cell_type": "code",
   "execution_count": 2,
   "metadata": {
    "collapsed": false
   },
   "outputs": [],
   "source": [
    "import wave\n",
    "\n",
    "def input_wave(filename,frames=10000000): #10000000 is an arbitrary large number of frames\n",
    "    with wave.open(filename,'rb') as wave_file:\n",
    "        params=wave_file.getparams()\n",
    "        audio=wave_file.readframes(frames)  \n",
    "        if params.nchannels!=1:\n",
    "            raise Exception(\"The input audio should be mono for these examples\")\n",
    "    return params, audio\n",
    "\n",
    "#output to file so we can use ipython notebook's Audio widget\n",
    "def output_wave(audio, params, stem, suffix):\n",
    "    #dynamically format the filename by passing in data\n",
    "    filename=stem.replace('.wav','_{}.wav'.format(suffix))\n",
    "    with wave.open(filename,'wb') as wave_file:\n",
    "        wave_file.setparams(params)\n",
    "        wave_file.writeframes(audio)"
   ]
  },
  {
   "cell_type": "markdown",
   "metadata": {},
   "source": [
    "These short mono audio clips will demonstrate the delay effect. One is a trumpet solo and the other is the sound of a punch."
   ]
  },
  {
   "cell_type": "code",
   "execution_count": 3,
   "metadata": {
    "collapsed": false
   },
   "outputs": [
    {
     "name": "stdout",
     "output_type": "stream",
     "text": [
      "Bytes per sample: 3\n",
      "Samples per second: 44100\n",
      "First 10 bytes:\n",
      "b'\\x00\\x00\\x00\\x13\\x00\\x00\\x1f\\x00\\x005'\n"
     ]
    },
    {
     "data": {
      "text/html": [
       "\n",
       "                <audio controls=\"controls\" >\n",
       "                    <source src=\"https://s3.amazonaws.com/audio-experiments/examples/Trumpet.wav\" type=\"audio/x-wav\" />\n",
       "                    Your browser does not support the audio element.\n",
       "                </audio>\n",
       "              "
      ],
      "text/plain": [
       "<IPython.lib.display.Audio object>"
      ]
     },
     "metadata": {},
     "output_type": "display_data"
    },
    {
     "name": "stdout",
     "output_type": "stream",
     "text": [
      "Bytes per sample: 2\n",
      "Samples per second: 44100\n",
      "First 10 bytes:\n",
      "b'\\x00\\x00\\x00\\x00\\x00\\x00\\x00\\x00\\xfe\\xff'\n"
     ]
    },
    {
     "data": {
      "text/html": [
       "\n",
       "                <audio controls=\"controls\" >\n",
       "                    <source src=\"https://s3.amazonaws.com/audio-experiments/examples/Punch.wav\" type=\"audio/x-wav\" />\n",
       "                    Your browser does not support the audio element.\n",
       "                </audio>\n",
       "              "
      ],
      "text/plain": [
       "<IPython.lib.display.Audio object>"
      ]
     },
     "metadata": {},
     "output_type": "display_data"
    }
   ],
   "source": [
    "trumpet_params, trumpet_bytes = input_wave('wavs/Trumpet.wav')\n",
    "punch_params,punch_bytes = input_wave('wavs/Punch.wav')\n",
    "\n",
    "print(\"Bytes per sample: {}\".format(trumpet_params.sampwidth), \n",
    "      \"Samples per second: {}\".format(trumpet_params.framerate),\n",
    "      \"First 10 bytes:\", trumpet_bytes[:10], sep='\\n')\n",
    "display(Audio(url='https://s3.amazonaws.com/audio-experiments/examples/Trumpet.wav', embed=False))\n",
    "\n",
    "print(\"Bytes per sample: {}\".format(punch_params.sampwidth), \n",
    "      \"Samples per second: {}\".format(punch_params.framerate),\n",
    "      \"First 10 bytes:\", punch_bytes[:10], sep='\\n')\n",
    "display(Audio(url='https://s3.amazonaws.com/audio-experiments/examples/Punch.wav', embed=False))"
   ]
  },
  {
   "cell_type": "markdown",
   "metadata": {},
   "source": [
    "## Implement a delay function\n",
    "The simplest delay function will create a copy of the input, add some silence (0's in the bytes object) to the beginning of the copy, and combine it with the original input. The _add_ function from [Audioop](https://docs.python.org/3.4/library/audioop.html) will add the two bytes objects together. Audioop.add requires both pieces of audio to have the same length, so we also need to cut off the end of the copy. \n"
   ]
  },
  {
   "cell_type": "code",
   "execution_count": 4,
   "metadata": {
    "collapsed": false
   },
   "outputs": [],
   "source": [
    "from audioop import add\n",
    "\n",
    "def delay(audio_bytes,params,offset_ms):\n",
    "    #calculate the number of bytes which corresponds to the offset in milliseconds\n",
    "    offset= params.sampwidth*offset_ms*int(params.framerate/1000)\n",
    "    #create some silence\n",
    "    beginning= b'\\0'*offset\n",
    "    #remove space from the end\n",
    "    end= audio_bytes[:-offset]\n",
    "    return add(audio_bytes, beginning+end, params.sampwidth)"
   ]
  },
  {
   "cell_type": "code",
   "execution_count": 5,
   "metadata": {
    "collapsed": false
   },
   "outputs": [
    {
     "data": {
      "text/html": [
       "\n",
       "                <audio controls=\"controls\" >\n",
       "                    <source src=\"https://s3.amazonaws.com/audio-experiments/examples/Trumpet_delay_1000ms.wav\" type=\"audio/x-wav\" />\n",
       "                    Your browser does not support the audio element.\n",
       "                </audio>\n",
       "              "
      ],
      "text/plain": [
       "<IPython.lib.display.Audio object>"
      ]
     },
     "metadata": {},
     "output_type": "display_data"
    },
    {
     "data": {
      "text/html": [
       "\n",
       "                <audio controls=\"controls\" >\n",
       "                    <source src=\"https://s3.amazonaws.com/audio-experiments/examples/Punch_delay_250ms.wav\" type=\"audio/x-wav\" />\n",
       "                    Your browser does not support the audio element.\n",
       "                </audio>\n",
       "              "
      ],
      "text/plain": [
       "<IPython.lib.display.Audio object>"
      ]
     },
     "metadata": {},
     "output_type": "display_data"
    }
   ],
   "source": [
    "#1-second delay\n",
    "delayed_bytes_1000=delay(trumpet_bytes,trumpet_params,1000)\n",
    "output_wave(delayed_bytes_1000, trumpet_params, 'wavs/Trumpet.wav','delay_1000ms')\n",
    "#250 ms delay\n",
    "delayed_bytes_250=delay(punch_bytes,punch_params,250)\n",
    "output_wave(delayed_bytes_250, punch_params, 'wavs/Punch.wav','delay_250ms')\n",
    "\n",
    "display(\n",
    "    Audio(url='https://s3.amazonaws.com/audio-experiments/examples/Trumpet_delay_1000ms.wav', embed=False),\n",
    "    Audio(url='https://s3.amazonaws.com/audio-experiments/examples/Punch_delay_250ms.wav', embed=False)\n",
    "    )"
   ]
  },
  {
   "cell_type": "markdown",
   "metadata": {},
   "source": [
    "## Change the delayed audio's volume\n",
    "To make this sound more like a realistic echo, we can change the volume of the delayed audio by multiplying it using audioop.mul. Note that multiplying each sample by one half is not the same as reducing the percieved loudness by one half."
   ]
  },
  {
   "cell_type": "code",
   "execution_count": 6,
   "metadata": {
    "collapsed": true
   },
   "outputs": [],
   "source": [
    "from audioop import mul\n",
    "#new delay function with factor\n",
    "def delay(audio_bytes,params,offset_ms,factor=1):\n",
    "    #calculate the number of bytes which corresponds to the offset in milliseconds\n",
    "    offset= params.sampwidth*offset_ms*int(params.framerate/1000)\n",
    "    #create some silence\n",
    "    beginning= b'\\0'*offset\n",
    "    #remove space from the end\n",
    "    end= audio_bytes[:-offset]\n",
    "    #multiply by the factor\n",
    "    multiplied_end= mul(audio_bytes[:-offset],params.sampwidth,factor)\n",
    "    return add(audio_bytes, beginning+ multiplied_end, params.sampwidth)"
   ]
  },
  {
   "cell_type": "code",
   "execution_count": 7,
   "metadata": {
    "collapsed": false
   },
   "outputs": [
    {
     "data": {
      "text/html": [
       "\n",
       "                <audio controls=\"controls\" >\n",
       "                    <source src=\"https://s3.amazonaws.com/audio-experiments/examples/Trumpet_delay_1000ms_0.5f.wav\" type=\"audio/x-wav\" />\n",
       "                    Your browser does not support the audio element.\n",
       "                </audio>\n",
       "              "
      ],
      "text/plain": [
       "<IPython.lib.display.Audio object>"
      ]
     },
     "metadata": {},
     "output_type": "display_data"
    },
    {
     "data": {
      "text/html": [
       "\n",
       "                <audio controls=\"controls\" >\n",
       "                    <source src=\"https://s3.amazonaws.com/audio-experiments/examples/Punch_delay_250ms_0.25f.wav\" type=\"audio/x-wav\" />\n",
       "                    Your browser does not support the audio element.\n",
       "                </audio>\n",
       "              "
      ],
      "text/plain": [
       "<IPython.lib.display.Audio object>"
      ]
     },
     "metadata": {},
     "output_type": "display_data"
    }
   ],
   "source": [
    "#1-second delay with factor .5\n",
    "delayed_bytes_1000=delay(trumpet_bytes,trumpet_params,offset_ms=1000, factor=0.5)\n",
    "output_wave(delayed_bytes_1000, trumpet_params, 'wavs/Trumpet.wav','delay_1000ms_0.5f')\n",
    "#500 ms delay with factor .25\n",
    "delayed_bytes_250=delay(punch_bytes,punch_params,offset_ms=250, factor=0.25)\n",
    "output_wave(delayed_bytes_250, punch_params, 'wavs/Punch.wav','delay_250ms_0.25f')\n",
    "\n",
    "display(\n",
    "    Audio(url='https://s3.amazonaws.com/audio-experiments/examples/Trumpet_delay_1000ms_0.5f.wav', embed=False),\n",
    "    Audio(url='https://s3.amazonaws.com/audio-experiments/examples/Punch_delay_250ms_0.25f.wav', embed=False)\n",
    "    )"
   ]
  },
  {
   "cell_type": "markdown",
   "metadata": {},
   "source": [
    "## Multiple delays\n",
    "Another enhancement to the delay function is to allow for multiple repeats. Each time a repeat occurs, the volume will get progressively louder or softer based on the factor."
   ]
  },
  {
   "cell_type": "code",
   "execution_count": 8,
   "metadata": {
    "collapsed": false
   },
   "outputs": [],
   "source": [
    "from warnings import warn\n",
    "\n",
    "def delay(audio_bytes,params,offset_ms,factor=1,num=1):\n",
    "    if (factor>0.7 and num >3) or factor>1:\n",
    "        warn(\"These settings may produce a very loud audio file. Please use caution when listening\")\n",
    "    #calculate the number of bytes which corresponds to the offset in milliseconds\n",
    "    offset=params.sampwidth*offset_ms*int(params.framerate/1000)\n",
    "    #add extra space at the end for the delays\n",
    "    delayed_bytes=audio_bytes\n",
    "    for i in range(num):\n",
    "        #create some silence\n",
    "        beginning = b'\\0'*offset*(i+1)\n",
    "        #remove space from the end\n",
    "        end = audio_bytes[:-offset*(i+1)]\n",
    "        #multiply by the factor\n",
    "        multiplied_end= mul(end,params.sampwidth,factor**(i+1))\n",
    "        delayed_bytes= add(delayed_bytes, beginning+multiplied_end, params.sampwidth)\n",
    "    return delayed_bytes"
   ]
  },
  {
   "cell_type": "code",
   "execution_count": 9,
   "metadata": {
    "collapsed": false
   },
   "outputs": [
    {
     "data": {
      "text/html": [
       "\n",
       "                <audio controls=\"controls\" >\n",
       "                    <source src=\"https://s3.amazonaws.com/audio-experiments/examples/Trumpet_delay_1000ms_0.5f_3n.wav\" type=\"audio/x-wav\" />\n",
       "                    Your browser does not support the audio element.\n",
       "                </audio>\n",
       "              "
      ],
      "text/plain": [
       "<IPython.lib.display.Audio object>"
      ]
     },
     "metadata": {},
     "output_type": "display_data"
    },
    {
     "data": {
      "text/html": [
       "\n",
       "                <audio controls=\"controls\" >\n",
       "                    <source src=\"https://s3.amazonaws.com/audio-experiments/examples/Punch_delay_250ms_0.7f_4n.wav\" type=\"audio/x-wav\" />\n",
       "                    Your browser does not support the audio element.\n",
       "                </audio>\n",
       "              "
      ],
      "text/plain": [
       "<IPython.lib.display.Audio object>"
      ]
     },
     "metadata": {},
     "output_type": "display_data"
    }
   ],
   "source": [
    "#1-second delay with factor .5, 3 repeats\n",
    "delayed_bytes_1000=delay(trumpet_bytes,trumpet_params,offset_ms=1000, factor=0.5, num=3)\n",
    "output_wave(delayed_bytes_1000, trumpet_params, 'wavs/Trumpet.wav','delay_1000ms_0.5f_3n')\n",
    "#250 ms delay with factor .7, 4 repeats\n",
    "delayed_bytes_250=delay(punch_bytes, punch_params,offset_ms=250, factor=0.7, num=4)\n",
    "output_wave(delayed_bytes_250, punch_params, 'wavs/Punch.wav','delay_250ms_0.7f_4n')\n",
    "\n",
    "display(\n",
    "    Audio(url='https://s3.amazonaws.com/audio-experiments/examples/Trumpet_delay_1000ms_0.5f_3n.wav', embed=False),\n",
    "    Audio(url='https://s3.amazonaws.com/audio-experiments/examples/Punch_delay_250ms_0.7f_4n.wav', embed=False)\n",
    "    )"
   ]
  },
  {
   "cell_type": "markdown",
   "metadata": {},
   "source": [
    "## Leave space at the end\n",
    "The multi-delays above output a sound of the same length as the original, so trying to add too many repeats will throw an exception. To give more time to hear the effects, let's increase the length to allow every repeat to finish."
   ]
  },
  {
   "cell_type": "code",
   "execution_count": 10,
   "metadata": {
    "collapsed": false
   },
   "outputs": [],
   "source": [
    "def delay(audio_bytes,params,offset_ms,factor=1,num=1):\n",
    "    if (factor>0.7 and num >3) or factor>1:\n",
    "        warn(\"These settings may produce a very loud audio file. Please use caution when listening\")\n",
    "    #calculate the number of bytes which corresponds to the offset in milliseconds\n",
    "    offset=params.sampwidth*offset_ms*int(params.framerate/1000)\n",
    "    #add extra space at the end for the delays\n",
    "    audio_bytes=audio_bytes+b'\\0'*offset*(num)\n",
    "    #create a copy of the original to apply the delays\n",
    "    delayed_bytes=audio_bytes\n",
    "    for i in range(num):\n",
    "        #create some silence\n",
    "        beginning = b'\\0'*offset*(i+1)\n",
    "        #remove space from the end\n",
    "        end = audio_bytes[:-offset*(i+1)]\n",
    "        #multiply by the factor\n",
    "        multiplied_end= mul(end,params.sampwidth,factor**(i+1))\n",
    "        delayed_bytes= add(delayed_bytes, beginning+multiplied_end, params.sampwidth)\n",
    "    return delayed_bytes"
   ]
  },
  {
   "cell_type": "code",
   "execution_count": 11,
   "metadata": {
    "collapsed": false
   },
   "outputs": [
    {
     "data": {
      "text/html": [
       "\n",
       "                <audio controls=\"controls\" >\n",
       "                    <source src=\"https://s3.amazonaws.com/audio-experiments/examples/Trumpet_delay_3000ms_0.5f_3n.wav\" type=\"audio/x-wav\" />\n",
       "                    Your browser does not support the audio element.\n",
       "                </audio>\n",
       "              "
      ],
      "text/plain": [
       "<IPython.lib.display.Audio object>"
      ]
     },
     "metadata": {},
     "output_type": "display_data"
    },
    {
     "data": {
      "text/html": [
       "\n",
       "                <audio controls=\"controls\" >\n",
       "                    <source src=\"https://s3.amazonaws.com/audio-experiments/examples/Punch_delay_500ms_0.7f_6n.wav\" type=\"audio/x-wav\" />\n",
       "                    Your browser does not support the audio element.\n",
       "                </audio>\n",
       "              "
      ],
      "text/plain": [
       "<IPython.lib.display.Audio object>"
      ]
     },
     "metadata": {},
     "output_type": "display_data"
    }
   ],
   "source": [
    "#3-second delay with factor .5, 3 repeats\n",
    "delayed_bytes_3000=delay(trumpet_bytes,trumpet_params,offset_ms=3000, factor=0.5, num=3)\n",
    "output_wave(delayed_bytes_3000, trumpet_params, 'wavs/Trumpet.wav','delay_3000ms_0.5f_3n')\n",
    "#500 ms delay with factor .7, 6 repeats\n",
    "delayed_bytes_500=delay(punch_bytes, punch_params,offset_ms=500, factor=0.7, num=6)\n",
    "output_wave(delayed_bytes_500, punch_params, 'wavs/Punch.wav','delay_500ms_0.7f_6n')\n",
    "\n",
    "display(\n",
    "    Audio(url='https://s3.amazonaws.com/audio-experiments/examples/Trumpet_delay_3000ms_0.5f_3n.wav', embed=False),\n",
    "    Audio(url='https://s3.amazonaws.com/audio-experiments/examples/Punch_delay_500ms_0.7f_6n.wav', embed=False)\n",
    "    )"
   ]
  },
  {
   "cell_type": "markdown",
   "metadata": {},
   "source": [
    "## Test out offset lengths and volume factors\n",
    "\n",
    "The best way to understand how different parameters affect the final sound is to try out a lot of examples. delay_to_file is a helper function to speed up this process."
   ]
  },
  {
   "cell_type": "code",
   "execution_count": 12,
   "metadata": {
    "collapsed": false
   },
   "outputs": [],
   "source": [
    "#helper function to try out lots of delays\n",
    "def delay_to_file(audio_bytes,params,offset_ms,file_stem,factor=1,num=1):\n",
    "    echoed_bytes=delay(audio_bytes,params,offset_ms,factor,num)\n",
    "    output_wave(echoed_bytes, params, file_stem,'delay_{}ms_{}f_{}n'.format(offset_ms,factor,num))"
   ]
  },
  {
   "cell_type": "markdown",
   "metadata": {},
   "source": [
    "A single delay of 1-2 seconds is too long to sound like a natural echo, so this can be used for a musical effect."
   ]
  },
  {
   "cell_type": "code",
   "execution_count": null,
   "metadata": {
    "collapsed": false
   },
   "outputs": [],
   "source": [
    "delay_to_file(trumpet_bytes,trumpet_params, offset_ms=2000,file_stem='wavs/Trumpet.wav',factor=.5)\n",
    "delay_to_file(trumpet_bytes,trumpet_params, offset_ms=1000,file_stem='wavs/Trumpet.wav',factor=.5)\n",
    "\n",
    "from IPython.display import display\n",
    "display(\n",
    "    Audio('wavs/Trumpet_delay_2000_0.5.wav'),\n",
    "    Audio('wavs/Trumpet_delay_1000_0.5.wav')\n",
    "    )"
   ]
  },
  {
   "cell_type": "markdown",
   "metadata": {},
   "source": [
    "Adding 250-400 ms of delay gives the impression of a natural echo that might occur in a larger physical space."
   ]
  },
  {
   "cell_type": "code",
   "execution_count": null,
   "metadata": {
    "collapsed": false
   },
   "outputs": [],
   "source": [
    "delay_to_file(trumpet_bytes,trumpet_params, offset_ms=400, file_stem='wavs/Trumpet.wav',factor=.5)\n",
    "delay_to_file(trumpet_bytes,trumpet_params, offset_ms=400, file_stem='wavs/Trumpet.wav',factor=.25)\n",
    "delay_to_file(trumpet_bytes,trumpet_params, offset_ms=250, file_stem='wavs/Trumpet.wav',factor=.5)\n",
    "delay_to_file(trumpet_bytes,trumpet_params, offset_ms=250, file_stem='wavs/Trumpet.wav',factor=.25)\n",
    "\n",
    "display(\n",
    "    Audio('wavs/Trumpet_delay_400_0.5.wav'),\n",
    "    Audio('wavs/Trumpet_delay_400_0.25.wav'),\n",
    "    Audio('wavs/Trumpet_delay_250_0.5.wav'),\n",
    "    Audio('wavs/Trumpet_delay_250_0.25.wav')\n",
    "    )"
   ]
  },
  {
   "cell_type": "markdown",
   "metadata": {},
   "source": [
    "As delays get shorter, around 125 ms or less, the effect starts to be percieved as a single sound rather than a distinct echo. This produces the effect of a [comb filter](https://en.wikipedia.org/wiki/Comb_filter) as certain frequencies get louder or softer due to interference. On this trumpet sample, 1-5 ms delay sounds a lot like a trumpet played through a [mute](http://www.summersong.net/teacher/trumpetlessons/brassinstrumentmutes/)."
   ]
  },
  {
   "cell_type": "code",
   "execution_count": null,
   "metadata": {
    "collapsed": false
   },
   "outputs": [],
   "source": [
    "delay_to_file(trumpet_bytes,trumpet_params, offset_ms=125,  file_stem='wavs/Trumpet.wav',factor=.5)\n",
    "delay_to_file(trumpet_bytes,trumpet_params, offset_ms=75,  file_stem='wavs/Trumpet.wav',factor=.5)\n",
    "delay_to_file(trumpet_bytes,trumpet_params, offset_ms=20,  file_stem='wavs/Trumpet.wav',factor=.75)\n",
    "delay_to_file(trumpet_bytes,trumpet_params, offset_ms=5,  file_stem='wavs/Trumpet.wav',factor=.75)\n",
    "delay_to_file(trumpet_bytes,trumpet_params, offset_ms=1,  file_stem='wavs/Trumpet.wav',factor=.75)\n",
    "\n",
    "display(\n",
    "    Audio('wavs/Trumpet_delay_125_0.5.wav'),\n",
    "    Audio('wavs/Trumpet_delay_75_0.5.wav'),\n",
    "    Audio('wavs/Trumpet_delay_20_0.75.wav'),\n",
    "    Audio('wavs/Trumpet_delay_5_0.75.wav'),\n",
    "    Audio('wavs/Trumpet_delay_1_0.75.wav')\n",
    "    )       "
   ]
  },
  {
   "cell_type": "code",
   "execution_count": null,
   "metadata": {
    "collapsed": false
   },
   "outputs": [],
   "source": [
    "delay_to_file(trumpet_bytes,trumpet_params,offset_ms=50,file_stem='wavs/Trumpet.wav',factor=.76,num=10)\n",
    "delay_to_file(trumpet_bytes,trumpet_params,offset_ms=250,file_stem='wavs/Trumpet.wav',factor=.7,num=10)\n",
    "delay_to_file(trumpet_bytes,trumpet_params,offset_ms=1000,file_stem='wavs/Trumpet.wav',factor=.9,num=3)\n",
    "display(\n",
    "    Audio(filename='wavs/Trumpet_delay_50ms_0.76f_10n.wav'),\n",
    "    Audio(filename='wavs/Trumpet_delay_250ms_0.7f_10n.wav'),\n",
    "    Audio(filename='wavs/Trumpet_delay_1000ms_0.9f_3n.wav'),\n",
    ")"
   ]
  },
  {
   "cell_type": "code",
   "execution_count": null,
   "metadata": {
    "collapsed": false
   },
   "outputs": [],
   "source": [
    "punch_params, punch_bytes = input_wave('wavs/Punch.wav') #must be mono\n",
    "delayed_bytes_700=delay(punch_bytes,punch_params,offset_ms=50, factor=.75, num=2)\n",
    "output_wave(delayed_bytes_700, punch_params, 'wavs/Punch.wav','delay')\n",
    "Audio('wavs/Punch_delay.wav')"
   ]
  }
 ],
 "metadata": {
  "kernelspec": {
   "display_name": "Python 3",
   "language": "python",
   "name": "python3"
  },
  "language_info": {
   "codemirror_mode": {
    "name": "ipython",
    "version": 3
   },
   "file_extension": ".py",
   "mimetype": "text/x-python",
   "name": "python",
   "nbconvert_exporter": "python",
   "pygments_lexer": "ipython3",
   "version": "3.4.3"
  }
 },
 "nbformat": 4,
 "nbformat_minor": 0
}
